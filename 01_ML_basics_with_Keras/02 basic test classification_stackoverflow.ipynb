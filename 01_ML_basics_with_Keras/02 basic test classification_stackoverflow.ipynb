{
 "cells": [
  {
   "cell_type": "code",
   "execution_count": 1,
   "id": "ac1911c4",
   "metadata": {},
   "outputs": [],
   "source": [
    "import matplotlib.pyplot as plt\n",
    "import os\n",
    "import re\n",
    "import shutil\n",
    "import string\n",
    "import tensorflow as tf\n"
   ]
  },
  {
   "cell_type": "code",
   "execution_count": 2,
   "id": "96111c01",
   "metadata": {},
   "outputs": [],
   "source": [
    "from tensorflow.keras import layers\n",
    "from tensorflow.keras import losses\n",
    "from tensorflow.keras import preprocessing\n",
    "from tensorflow.keras.layers import TextVectorization\n"
   ]
  },
  {
   "cell_type": "code",
   "execution_count": 3,
   "id": "0e131d6e",
   "metadata": {},
   "outputs": [
    {
     "name": "stdout",
     "output_type": "stream",
     "text": [
      "2.7.0\n"
     ]
    }
   ],
   "source": [
    "print(tf.__version__)"
   ]
  },
  {
   "cell_type": "markdown",
   "id": "b3ee76e6",
   "metadata": {},
   "source": [
    "To complete this exercise, you should modify this notebook to work with the Stack Overflow dataset by making the following modifications:\n",
    "\n",
    "At the top of your notebook, update the code that downloads the IMDB dataset with code to download the Stack Overflow dataset that has been prepreared. As the Stack Overflow dataset has a similar directory structure, you will not need to make many modifications.\n",
    "\n",
    "Modify the last layer of your model to read Dense(4), as there are now four output classes.\n",
    "\n",
    "When compiling the model, change the loss to tf.keras.losses.SparseCategoricalCrossentropy. This is the correct loss function to use for a multi-class classification problem, when the labels for each class are integers (in this case, they can be 0, 1, 2, or 3). In addition, change the metrics to metrics=['accuracy'], since this is a multi-class classification problem (tf.metrics.BinaryAccuracy is only used for binary classifiers).\n",
    "\n",
    "When plotting accuracy over time, change binary_accuracy and val_binary_accuracy to accuracy and val_accuracy, respectively.\n",
    "\n",
    "Once these changes are complete, you will be able to train a multi-class classifier.\n",
    "\n"
   ]
  },
  {
   "cell_type": "markdown",
   "id": "8a486778",
   "metadata": {},
   "source": [
    "# Download Stackoverflow dataset"
   ]
  },
  {
   "cell_type": "code",
   "execution_count": 4,
   "id": "de6a2127",
   "metadata": {},
   "outputs": [
    {
     "name": "stdout",
     "output_type": "stream",
     "text": [
      "Downloading data from http://storage.googleapis.com/download.tensorflow.org/data/stack_overflow_16k.tar.gz\n",
      "6053888/6053168 [==============================] - 1s 0us/step\n",
      "6062080/6053168 [==============================] - 1s 0us/step\n"
     ]
    }
   ],
   "source": [
    "ds_dir=\"datasets/stack_overflow/\"\n",
    "os.makedirs(ds_dir)\n",
    "url = \"http://storage.googleapis.com/download.tensorflow.org/data/stack_overflow_16k.tar.gz\"\n",
    "dataset = tf.keras.utils.get_file(\"stack_overflow_16k\",url,untar=True, cache_dir=ds_dir, cache_subdir='')\n",
    "dataset_dir  = os.path.join(os.path.dirname(dataset),'stack_overflow')"
   ]
  },
  {
   "cell_type": "code",
   "execution_count": 5,
   "id": "07556e40",
   "metadata": {},
   "outputs": [
    {
     "name": "stdout",
     "output_type": "stream",
     "text": [
      "datasets/stack_overflow\n"
     ]
    }
   ],
   "source": [
    "print (os.path.dirname(dataset))"
   ]
  },
  {
   "cell_type": "code",
   "execution_count": 6,
   "id": "a36be65b",
   "metadata": {},
   "outputs": [],
   "source": [
    "dataset_dir = os.path.dirname(dataset)"
   ]
  },
  {
   "cell_type": "code",
   "execution_count": 7,
   "id": "97bec28d",
   "metadata": {},
   "outputs": [
    {
     "data": {
      "text/plain": [
       "['test', 'README.md', 'train', 'stack_overflow_16k.tar.gz']"
      ]
     },
     "execution_count": 7,
     "metadata": {},
     "output_type": "execute_result"
    }
   ],
   "source": [
    "os.listdir(dataset_dir)"
   ]
  },
  {
   "cell_type": "code",
   "execution_count": 8,
   "id": "23314264",
   "metadata": {},
   "outputs": [
    {
     "data": {
      "text/plain": [
       "['csharp', 'java', 'python', 'javascript']"
      ]
     },
     "execution_count": 8,
     "metadata": {},
     "output_type": "execute_result"
    }
   ],
   "source": [
    "train_dir = os.path.join(dataset_dir, 'train')\n",
    "os.listdir(train_dir)"
   ]
  },
  {
   "cell_type": "code",
   "execution_count": 9,
   "id": "0b031308",
   "metadata": {},
   "outputs": [
    {
     "name": "stdout",
     "output_type": "stream",
     "text": [
      "\"program runs in pycharm but will not run in the console this is my first programming language class, so please be patient. the program runs fine in pycharm. but when i try to run the program in c:windowspy.exe it will populate the first question of my program. when i answer the question it closes suddenly. ..pounds = float(input('please enter the value of pounds you wish to convert to kilograms: ')).kilograms = pounds * 0.45359237.print(\"\"the conversion to kilograms is: \"\", format(kilograms, '.2f'))\"\n",
      "\n"
     ]
    }
   ],
   "source": [
    "sample_file = os.path.join(train_dir, 'python/1655.txt')\n",
    "with open(sample_file) as f:\n",
    "  print(f.read())\n"
   ]
  },
  {
   "cell_type": "markdown",
   "id": "45720aba",
   "metadata": {},
   "source": [
    "# load the dataset"
   ]
  },
  {
   "cell_type": "code",
   "execution_count": 10,
   "id": "2b389bfd",
   "metadata": {},
   "outputs": [
    {
     "name": "stdout",
     "output_type": "stream",
     "text": [
      "Found 8000 files belonging to 4 classes.\n",
      "Using 6400 files for training.\n"
     ]
    },
    {
     "name": "stderr",
     "output_type": "stream",
     "text": [
      "2021-09-10 09:11:59.939915: I tensorflow/core/common_runtime/gpu/gpu_device.cc:1525] Created device /job:localhost/replica:0/task:0/device:GPU:0 with 47220 MB memory:  -> device: 0, name: Quadro RTX 8000, pci bus id: 0000:67:00.0, compute capability: 7.5\n",
      "2021-09-10 09:11:59.941353: I tensorflow/core/common_runtime/gpu/gpu_device.cc:1525] Created device /job:localhost/replica:0/task:0/device:GPU:1 with 46840 MB memory:  -> device: 1, name: Quadro RTX 8000, pci bus id: 0000:68:00.0, compute capability: 7.5\n"
     ]
    }
   ],
   "source": [
    "batch_size = 32\n",
    "seed = 42\n",
    "\n",
    "raw_train_ds = tf.keras.preprocessing.text_dataset_from_directory(\n",
    "    ds_dir+'/train', \n",
    "    batch_size=batch_size, \n",
    "    validation_split=0.2, \n",
    "    subset='training', \n",
    "    seed=seed)"
   ]
  },
  {
   "cell_type": "code",
   "execution_count": 11,
   "id": "536251b8",
   "metadata": {},
   "outputs": [
    {
     "name": "stdout",
     "output_type": "stream",
     "text": [
      "Review b'\"my tester is going to the wrong constructor i am new to programming so if i ask a question that can be easily fixed, please forgive me. my program has a tester class with a main. when i send that to my regularpolygon class, it sends it to the wrong constructor. i have two constructors. 1 without perameters..public regularpolygon().    {.       mynumsides = 5;.       mysidelength = 30;.    }//end default constructor...and my second, with perameters. ..public regularpolygon(int numsides, double sidelength).    {.        mynumsides = numsides;.        mysidelength = sidelength;.    }// end constructor...in my tester class i have these two lines:..regularpolygon shape = new regularpolygon(numsides, sidelength);.        shape.menu();...numsides and sidelength were declared and initialized earlier in the testing class...so what i want to happen, is the tester class sends numsides and sidelength to the second constructor and use it in that class. but it only uses the default constructor, which therefor ruins the whole rest of the program. can somebody help me?..for those of you who want to see more of my code: here you go..public double vertexangle().    {.        system.out.println(\"\"the vertex angle method: \"\" + mynumsides);// prints out 5.        system.out.println(\"\"the vertex angle method: \"\" + mysidelength); // prints out 30..        double vertexangle;.        vertexangle = ((mynumsides - 2.0) / mynumsides) * 180.0;.        return vertexangle;.    }//end method vertexangle..public void menu().{.    system.out.println(mynumsides); // prints out what the user puts in.    system.out.println(mysidelength); // prints out what the user puts in.    gotographic();.    calcr(mynumsides, mysidelength);.    calcr(mynumsides, mysidelength);.    print(); .}// end menu...this is my entire tester class:..public static void main(string[] arg).{.    int numsides;.    double sidelength;.    scanner keyboard = new scanner(system.in);..    system.out.println(\"\"welcome to the regular polygon program!\"\");.    system.out.println();..    system.out.print(\"\"enter the number of sides of the polygon ==&gt; \"\");.    numsides = keyboard.nextint();.    system.out.println();..    system.out.print(\"\"enter the side length of each side ==&gt; \"\");.    sidelength = keyboard.nextdouble();.    system.out.println();..    regularpolygon shape = new regularpolygon(numsides, sidelength);.    shape.menu();.}//end main...for testing it i sent it numsides 4 and sidelength 100.\"\\n'\n",
      "Label 1\n",
      "Review b'\"blank code slow skin detection this code changes the color space to lab and using a threshold finds the skin area of an image. but it\\'s ridiculously slow. i don\\'t know how to make it faster ?    ..from colormath.color_objects import *..def skindetection(img, treshold=80, color=[255,20,147]):..    print img.shape.    res=img.copy().    for x in range(img.shape[0]):.        for y in range(img.shape[1]):.            rgbimg=rgbcolor(img[x,y,0],img[x,y,1],img[x,y,2]).            labimg=rgbimg.convert_to(\\'lab\\', debug=false).            if (labimg.lab_l &gt; treshold):.                res[x,y,:]=color.            else: .                res[x,y,:]=img[x,y,:]..    return res\"\\n'\n",
      "Label 3\n",
      "Review b'\"option and validation in blank i want to add a new option on my system where i want to add two text files, both rental.txt and customer.txt. inside each text are id numbers of the customer, the videotape they need and the price...i want to place it as an option on my code. right now i have:...add customer.rent return.view list.search.exit...i want to add this as my sixth option. say for example i ordered a video, it would display the price and would let me confirm the price and if i am going to buy it or not...here is my current code:..  import blank.io.*;.    import blank.util.arraylist;.    import static blank.lang.system.out;..    public class rentalsystem{.    static bufferedreader input = new bufferedreader(new inputstreamreader(system.in));.    static file file = new file(\"\"file.txt\"\");.    static arraylist&lt;string&gt; list = new arraylist&lt;string&gt;();.    static int rows;..    public static void main(string[] args) throws exception{.        introduction();.        system.out.print(\"\"nn\"\");.        login();.        system.out.print(\"\"nnnnnnnnnnnnnnnnnnnnnn\"\");.        introduction();.        string repeat;.        do{.            loadfile();.            system.out.print(\"\"nwhat do you want to do?nn\"\");.            system.out.print(\"\"n                    - - - - - - - - - - - - - - - - - - - - - - -\"\");.            system.out.print(\"\"nn                    |     1. add customer    |   2. rent return |n\"\");.            system.out.print(\"\"n                    - - - - - - - - - - - - - - - - - - - - - - -\"\");.            system.out.print(\"\"nn                    |     3. view list       |   4. search      |n\"\");.            system.out.print(\"\"n                    - - - - - - - - - - - - - - - - - - - - - - -\"\");.            system.out.print(\"\"nn                                             |   5. exit        |n\"\");.            system.out.print(\"\"n                                              - - - - - - - - - -\"\");.            system.out.print(\"\"nnchoice:\"\");.            int choice = integer.parseint(input.readline());.            switch(choice){.                case 1:.                    writedata();.                    break;.                case 2:.                    rentdata();.                    break;.                case 3:.                    viewlist();.                    break;.                case 4:.                    search();.                    break;.                case 5:.                    system.out.println(\"\"goodbye!\"\");.                    system.exit(0);.                default:.                    system.out.print(\"\"invalid choice: \"\");.                    break;.            }.            system.out.print(\"\"ndo another task? [y/n] \"\");.            repeat = input.readline();.        }while(repeat.equals(\"\"y\"\"));..        if(repeat!=\"\"y\"\") system.out.println(\"\"ngoodbye!\"\");..    }..    public static void writedata() throws exception{.        system.out.print(\"\"nname: \"\");.        string cname = input.readline();.        system.out.print(\"\"address: \"\");.        string add = input.readline();.        system.out.print(\"\"phone no.: \"\");.        string pno = input.readline();.        system.out.print(\"\"rental amount: \"\");.        string ramount = input.readline();.        system.out.print(\"\"tapenumber: \"\");.        string tno = input.readline();.        system.out.print(\"\"title: \"\");.        string title = input.readline();.        system.out.print(\"\"date borrowed: \"\");.        string dborrowed = input.readline();.        system.out.print(\"\"due date: \"\");.        string ddate = input.readline();.        createline(cname, add, pno, ramount,tno, title, dborrowed, ddate);.        rentdata();.    }..    public static void createline(string name, string address, string phone , string rental, string tapenumber, string title, string borrowed, string due) throws exception{.        filewriter fw = new filewriter(file, true);.        fw.write(\"\"nname: \"\"+name + \"\"naddress: \"\" + address +\"\"nphone no.: \"\"+ phone+\"\"nrentalamount: \"\"+rental+\"\"ntape no.: \"\"+ tapenumber+\"\"ntitle: \"\"+ title+\"\"ndate borrowed: \"\"+borrowed +\"\"ndue date: \"\"+ due+\"\":rn\"\");.        fw.close();.    }..    public static void loadfile() throws exception{.        try{.            list.clear();.            fileinputstream fstream = new fileinputstream(file);.            bufferedreader br = new bufferedreader(new inputstreamreader(fstream));.            rows = 0;.            while( br.ready()).            {.                list.add(br.readline());.                rows++;.            }.            br.close();.        } catch(exception e){.            system.out.println(\"\"list not yet loaded.\"\");.        }.    }..    public static void viewlist(){.        system.out.print(\"\"n~ ~ ~ ~ ~ ~ ~ ~ ~ ~ ~\"\");.        system.out.print(\"\" |list of all costumers|\"\");.        system.out.print(\"\"~ ~ ~ ~ ~ ~ ~ ~ ~ ~ ~\"\");.        for(int i = 0; i &lt;rows; i++){.            system.out.println(list.get(i));.        }.    }.        public static void rentdata()throws exception.    {   system.out.print(\"\"n~ ~ ~ ~ ~ ~ ~ ~ ~ ~ ~\"\");.        system.out.print(\"\" |rent data list|\"\");.        system.out.print(\"\"~ ~ ~ ~ ~ ~ ~ ~ ~ ~ ~\"\");.        system.out.print(\"\"nenter customer name: \"\");.        string cname = input.readline();.        system.out.print(\"\"date borrowed: \"\");.        string dborrowed = input.readline();.        system.out.print(\"\"due date: \"\");.        string ddate = input.readline();.        system.out.print(\"\"return date: \"\");.        string rdate = input.readline();.        system.out.print(\"\"rent amount: \"\");.        string ramount = input.readline();..        system.out.print(\"\"you pay:\"\"+ramount);...    }.    public static void search()throws exception.    {   system.out.print(\"\"n~ ~ ~ ~ ~ ~ ~ ~ ~ ~ ~\"\");.        system.out.print(\"\" |search costumers|\"\");.        system.out.print(\"\"~ ~ ~ ~ ~ ~ ~ ~ ~ ~ ~\"\");.        system.out.print(\"\"nenter costumer name: \"\");.        string cname = input.readline();.        boolean found = false;..        for(int i=0; i &lt; rows; i++){.            string temp[] = list.get(i).split(\"\",\"\");..            if(cname.equals(temp[0])){.            system.out.println(\"\"search result:nyou are \"\" + temp[0] + \"\" from \"\" + temp[1] + \"\".\"\"+ temp[2] + \"\".\"\"+ temp[3] + \"\".\"\"+ temp[4] + \"\".\"\"+ temp[5] + \"\" is \"\" + temp[6] + \"\".\"\"+ temp[7] + \"\" is \"\" + temp[8] + \"\".\"\");.                found = true;.            }.        }..        if(!found){.            system.out.print(\"\"no results.\"\");.        }..    }..        public static boolean evaluate(string uname, string pass){.        if (uname.equals(\"\"admin\"\")&amp;&amp;pass.equals(\"\"12345\"\")) return true;.        else return false;.    }..    public static string login()throws exception{.        bufferedreader input=new bufferedreader(new inputstreamreader(system.in));.        int counter=0;.        do{.            system.out.print(\"\"username:\"\");.            string uname =input.readline();.            system.out.print(\"\"password:\"\");.            string pass =input.readline();..            boolean accept= evaluate(uname,pass);..            if(accept){.                break;.                }else{.                    system.out.println(\"\"incorrect username or password!\"\");.                    counter ++;.                    }.        }while(counter&lt;3);..            if(counter !=3) return \"\"login successful\"\";.            else return \"\"login failed\"\";.            }.        public static void introduction() throws exception{..        system.out.println(\"\"                  - - - - - - - - - - - - - - - - - - - - - - - - -\"\");.        system.out.println(\"\"                  !                  r e n t a l                  !\"\");.        system.out.println(\"\"                   ! ~ ~ ~ ~ ~ !  =================  ! ~ ~ ~ ~ ~ !\"\");.        system.out.println(\"\"                  !                  s y s t e m                  !\"\");.        system.out.println(\"\"                  - - - - - - - - - - - - - - - - - - - - - - - - -\"\");.        }..}\"\\n'\n",
      "Label 1\n"
     ]
    }
   ],
   "source": [
    "for text_batch, label_batch in raw_train_ds.take(1):\n",
    "  for i in range(3):\n",
    "    print(\"Review\", text_batch.numpy()[i])\n",
    "    print(\"Label\", label_batch.numpy()[i])"
   ]
  },
  {
   "cell_type": "code",
   "execution_count": 12,
   "id": "5590b6f0",
   "metadata": {},
   "outputs": [
    {
     "name": "stdout",
     "output_type": "stream",
     "text": [
      "Label 0 corresponds to csharp\n",
      "Label 1 corresponds to java\n",
      "Label 2 corresponds to javascript\n",
      "Label 3 corresponds to python\n"
     ]
    }
   ],
   "source": [
    "print(\"Label 0 corresponds to\", raw_train_ds.class_names[0])\n",
    "print(\"Label 1 corresponds to\", raw_train_ds.class_names[1])\n",
    "print(\"Label 2 corresponds to\", raw_train_ds.class_names[2])\n",
    "print(\"Label 3 corresponds to\", raw_train_ds.class_names[3])"
   ]
  },
  {
   "cell_type": "code",
   "execution_count": 13,
   "id": "512201e9",
   "metadata": {},
   "outputs": [
    {
     "name": "stdout",
     "output_type": "stream",
     "text": [
      "Found 8000 files belonging to 4 classes.\n",
      "Using 1600 files for validation.\n"
     ]
    }
   ],
   "source": [
    "# now validation set\n",
    "\n",
    "raw_val_ds = tf.keras.preprocessing.text_dataset_from_directory(\n",
    "    ds_dir+ 'train', \n",
    "    batch_size=batch_size, \n",
    "    validation_split=0.2, \n",
    "    subset='validation', \n",
    "    seed=seed)"
   ]
  },
  {
   "cell_type": "code",
   "execution_count": 14,
   "id": "650e6347",
   "metadata": {},
   "outputs": [
    {
     "name": "stdout",
     "output_type": "stream",
     "text": [
      "Found 8000 files belonging to 4 classes.\n"
     ]
    }
   ],
   "source": [
    "# now test set\n",
    "raw_test_ds = tf.keras.preprocessing.text_dataset_from_directory(\n",
    "    ds_dir+'test', \n",
    "    batch_size=batch_size)"
   ]
  },
  {
   "cell_type": "markdown",
   "id": "4c61b60b",
   "metadata": {},
   "source": [
    "# preprocessing"
   ]
  },
  {
   "cell_type": "markdown",
   "id": "cc1574f2",
   "metadata": {},
   "source": [
    "To deal with programming language, we need to process the puctuation. we will try two different versions of preprocess to test this idea. "
   ]
  },
  {
   "cell_type": "code",
   "execution_count": 15,
   "id": "9599e8fb",
   "metadata": {},
   "outputs": [],
   "source": [
    "def custom_standardization(input_data):\n",
    "  lowercase = tf.strings.lower(input_data)\n",
    "  stripped_html = tf.strings.regex_replace(lowercase, '<br />', ' ')\n",
    "  return stripped_html\n",
    "  #return tf.strings.regex_replace(stripped_html,\n",
    "  #                                '[%s]' % re.escape(string.punctuation),\n",
    "  #                                '')"
   ]
  },
  {
   "cell_type": "code",
   "execution_count": 16,
   "id": "a0430028",
   "metadata": {},
   "outputs": [],
   "source": [
    "max_features = 10000\n",
    "sequence_length = 250\n",
    "\n",
    "vectorize_layer = TextVectorization(\n",
    "    standardize=custom_standardization,\n",
    "    max_tokens=max_features,\n",
    "    output_mode='int',\n",
    "    output_sequence_length=sequence_length)"
   ]
  },
  {
   "cell_type": "markdown",
   "id": "1031f345",
   "metadata": {},
   "source": [
    "raw_train_ds is in a form of tf.data.Dataset\n",
    "\n",
    "> dataset = tf.data.Dataset.from_tensor_slices([1, 2, 3]) \\\n",
    "> dataset = dataset.map(lambda x: x*2) \\\n",
    "> list(dataset.as_numpy_iterator()) \\\n",
    "> [2, 4, 6]"
   ]
  },
  {
   "cell_type": "code",
   "execution_count": 17,
   "id": "d502bccd",
   "metadata": {},
   "outputs": [],
   "source": [
    "# Make a text-only dataset (without labels), then call adapt\n",
    "# If desired, the user can call this layer's adapt() method on a dataset. When this layer is adapted,\n",
    "# it will analyze the dataset, determine the frequency of individual string values,\n",
    "# and create a 'vocabulary' from them. This vocabulary can have unlimited size or be capped,\n",
    "# depending on the configuration options for this layer; if there are more unique values\n",
    "# in the input than the maximum vocabulary size, the most frequent terms will be used to create the vocabulary.\n",
    "train_text = raw_train_ds.map(lambda x, y: x)\n",
    "vectorize_layer.adapt(train_text)"
   ]
  },
  {
   "cell_type": "code",
   "execution_count": 18,
   "id": "476dbf00",
   "metadata": {},
   "outputs": [],
   "source": [
    "def vectorize_text(text, label):\n",
    "  text = tf.expand_dims(text, -1)\n",
    "  return vectorize_layer(text), label"
   ]
  },
  {
   "cell_type": "code",
   "execution_count": 19,
   "id": "9a8066ca",
   "metadata": {},
   "outputs": [
    {
     "name": "stdout",
     "output_type": "stream",
     "text": [
      "Review tf.Tensor(b'\"set blank to quit on exception? i\\'m using blank 3..i\\'ve been looking around for an answer to this, but i haven\\'t found it yet. basically, i\\'m running several blank scripts into a game engine, and each script has its own entry point...i\\'d rather not add try: except blocks through all of my code, so i was wondering if it\\'s at all possible to tell blank to quit (or perhaps assign a custom function to that \"\"callback\"\") on finding its first error, regardless of where or what it found? ..currently, the game engine will continue after finding and hitting an error, making it more difficult than necessary to diagnose issues since running into one error may make a subsequent script not work (as it relies on variables that the error-ing script set, for example). any ideas? ..i know that i could redirect the console to a file to allow for easier scrolling, but just capturing the first error and stopping the game prematurely would be really useful...okay, a couple of extra bits of info - sorry for neglecting to say this. the engine i\\'m using (the blender game engine) is coded in c, so changing the source is more than i\\'d like to do.....after googling, it would appear that a similar question with a solid answer has been asked here, which is how to get the last raised exception. if i check the sys module for the presence of the last_value variable and it exists, then i can quit prematurely, as the console would have already printed out the error...thanks for the help.\"\\n', shape=(), dtype=string)\n",
      "Label python\n",
      "Vectorized review (<tf.Tensor: shape=(1, 250), dtype=int64, numpy=\n",
      "array([[5243,   29,    4, 2630,   38, 5550,   60,   50,   29,    1,  198,\n",
      "         402,  515,   13,   30,  200,    4,  565,   26,    5, 1546,  249,\n",
      "          14, 4088, 2199,   60,  332,  713,   29, 1606,  100,    6,  335,\n",
      "           1,   10,  115,  235,   97,  176,  686,  938,    1,  767,   23,\n",
      "         129,    1,  609, 3070,  181,   73,   11,   24,  412,   59,    5,\n",
      "         112,  568,   12,  178,   62,   73,  225,    4,  401,   29,    4,\n",
      "        2630, 1315, 2042,  601,    6,  719,   53,    4,   15,    1,   38,\n",
      "        1186,  176,  105, 1090, 3014,   11,  121,   46,   63,   14,    1,\n",
      "           1,    2,  335, 2787,   69, 1073,  155, 1186,   10, 9331,   30,\n",
      "        1090,  467,   14,  177, 2911,  188, 1983,    4,    1, 1307,  441,\n",
      "         332,  100,   74,   95,  444,  110,    6, 4862,  235,   23,  179,\n",
      "        2015,   14,    1,   38,  298,   15,    2,    1,  235, 3872,   13,\n",
      "        6971,   77, 3509,  376,  101,   15,    5,  163, 2528,    2,  397,\n",
      "           4,    6,   49,    4,  771,   13, 1518,    1,   26,  102,    1,\n",
      "           2,  105,   95,   10, 3643,    2,  335,    1,   64,   32,  328,\n",
      "           1,    6, 1867,   11, 1247, 3757,   11,  858,   58,  989,   13,\n",
      "           1,    4,  351,  650,    2, 2787,   60,   50, 1137,    1,  335,\n",
      "           1,    8, 3206,    7, 2073,   59,  899,    2,  517,    8,  177,\n",
      "         188,  585,   51,    4,    1,    1,   14,   64,  942,   15,    6,\n",
      "         493,  185,   21,    6, 1794,  200,   97,  198,  954, 1116,   66,\n",
      "           8,   41,    4,   48,    2,  255, 5408, 2187,   12,    5,  190,\n",
      "           2, 2355,  454,   13,    2,    1,   11,    2,    1,  126,   10,\n",
      "          14, 4257,   87,    5,   35, 2630,    1,   36]])>, <tf.Tensor: shape=(), dtype=int32, numpy=3>)\n"
     ]
    }
   ],
   "source": [
    "# retrieve a batch (of 32 reviews and labels) from the dataset\n",
    "text_batch, label_batch = next(iter(raw_train_ds))\n",
    "first_review, first_label = text_batch[0], label_batch[0]\n",
    "print(\"Review\", first_review)\n",
    "print(\"Label\", raw_train_ds.class_names[first_label])\n",
    "print(\"Vectorized review\", vectorize_text(first_review, first_label))"
   ]
  },
  {
   "cell_type": "code",
   "execution_count": 20,
   "id": "e2ff880e",
   "metadata": {},
   "outputs": [
    {
     "name": "stdout",
     "output_type": "stream",
     "text": [
      "1287 --->  direction\n",
      " 313 --->  instead\n",
      "Vocabulary size: 10000\n"
     ]
    }
   ],
   "source": [
    "print(\"1287 ---> \",vectorize_layer.get_vocabulary()[1287])\n",
    "print(\" 313 ---> \",vectorize_layer.get_vocabulary()[313])\n",
    "print('Vocabulary size: {}'.format(len(vectorize_layer.get_vocabulary())))"
   ]
  },
  {
   "cell_type": "code",
   "execution_count": 21,
   "id": "63269ddf",
   "metadata": {},
   "outputs": [],
   "source": [
    "train_ds = raw_train_ds.map(vectorize_text)\n",
    "val_ds = raw_val_ds.map(vectorize_text)\n",
    "test_ds = raw_test_ds.map(vectorize_text)\n",
    "\n",
    "AUTOTUNE = tf.data.AUTOTUNE\n",
    "\n",
    "train_ds = train_ds.cache().prefetch(buffer_size=AUTOTUNE)\n",
    "val_ds = val_ds.cache().prefetch(buffer_size=AUTOTUNE)\n",
    "test_ds = test_ds.cache().prefetch(buffer_size=AUTOTUNE)"
   ]
  },
  {
   "cell_type": "markdown",
   "id": "555176a7",
   "metadata": {},
   "source": [
    "# model "
   ]
  },
  {
   "cell_type": "code",
   "execution_count": 22,
   "id": "f944255d",
   "metadata": {},
   "outputs": [
    {
     "name": "stdout",
     "output_type": "stream",
     "text": [
      "Model: \"sequential\"\n",
      "_________________________________________________________________\n",
      "Layer (type)                 Output Shape              Param #   \n",
      "=================================================================\n",
      "embedding (Embedding)        (None, None, 16)          160016    \n",
      "_________________________________________________________________\n",
      "dropout (Dropout)            (None, None, 16)          0         \n",
      "_________________________________________________________________\n",
      "global_average_pooling1d (G  (None, 16)                0         \n",
      "lobalAveragePooling1D)                                           \n",
      "_________________________________________________________________\n",
      "dropout_1 (Dropout)          (None, 16)                0         \n",
      "_________________________________________________________________\n",
      "dense (Dense)                (None, 4)                 68        \n",
      "_________________________________________________________________\n",
      "=================================================================\n",
      "Total params: 160,084\n",
      "Trainable params: 160,084\n",
      "Non-trainable params: 0\n",
      "_________________________________________________________________\n"
     ]
    }
   ],
   "source": [
    "embedding_dim = 16\n",
    "\n",
    "model = tf.keras.Sequential([\n",
    "  layers.Embedding(max_features + 1, embedding_dim),\n",
    "  layers.Dropout(0.2),\n",
    "  layers.GlobalAveragePooling1D(),\n",
    "  layers.Dropout(0.2),\n",
    "  layers.Dense(4)])\n",
    "\n",
    "model.summary()"
   ]
  },
  {
   "cell_type": "code",
   "execution_count": 23,
   "id": "37e6da8b",
   "metadata": {},
   "outputs": [],
   "source": [
    "model.compile(loss=losses.SparseCategoricalCrossentropy(from_logits=True),\n",
    "              optimizer='adam',\n",
    "              metrics=['accuracy'])\n"
   ]
  },
  {
   "cell_type": "code",
   "execution_count": 24,
   "id": "0908d4a0",
   "metadata": {},
   "outputs": [
    {
     "name": "stdout",
     "output_type": "stream",
     "text": [
      "Epoch 1/50\n",
      "200/200 [==============================] - 2s 6ms/step - loss: 1.3785 - accuracy: 0.3309 - val_loss: 1.3663 - val_accuracy: 0.3963\n",
      "Epoch 2/50\n",
      "200/200 [==============================] - 1s 5ms/step - loss: 1.3495 - accuracy: 0.4652 - val_loss: 1.3276 - val_accuracy: 0.5125\n",
      "Epoch 3/50\n",
      "200/200 [==============================] - 1s 5ms/step - loss: 1.2991 - accuracy: 0.5145 - val_loss: 1.2685 - val_accuracy: 0.5638\n",
      "Epoch 4/50\n",
      "200/200 [==============================] - 1s 5ms/step - loss: 1.2295 - accuracy: 0.5698 - val_loss: 1.1964 - val_accuracy: 0.6144\n",
      "Epoch 5/50\n",
      "200/200 [==============================] - 1s 5ms/step - loss: 1.1530 - accuracy: 0.6266 - val_loss: 1.1221 - val_accuracy: 0.6700\n",
      "Epoch 6/50\n",
      "200/200 [==============================] - 1s 5ms/step - loss: 1.0756 - accuracy: 0.6764 - val_loss: 1.0504 - val_accuracy: 0.7044\n",
      "Epoch 7/50\n",
      "200/200 [==============================] - 1s 4ms/step - loss: 1.0032 - accuracy: 0.7138 - val_loss: 0.9851 - val_accuracy: 0.7294\n",
      "Epoch 8/50\n",
      "200/200 [==============================] - 1s 4ms/step - loss: 0.9396 - accuracy: 0.7412 - val_loss: 0.9270 - val_accuracy: 0.7475\n",
      "Epoch 9/50\n",
      "200/200 [==============================] - 1s 5ms/step - loss: 0.8801 - accuracy: 0.7655 - val_loss: 0.8770 - val_accuracy: 0.7631\n",
      "Epoch 10/50\n",
      "200/200 [==============================] - 1s 5ms/step - loss: 0.8266 - accuracy: 0.7778 - val_loss: 0.8323 - val_accuracy: 0.7700\n",
      "Epoch 11/50\n",
      "200/200 [==============================] - 1s 5ms/step - loss: 0.7796 - accuracy: 0.7931 - val_loss: 0.7938 - val_accuracy: 0.7781\n",
      "Epoch 12/50\n",
      "200/200 [==============================] - 1s 5ms/step - loss: 0.7399 - accuracy: 0.8003 - val_loss: 0.7590 - val_accuracy: 0.7862\n",
      "Epoch 13/50\n",
      "200/200 [==============================] - 1s 5ms/step - loss: 0.7031 - accuracy: 0.8109 - val_loss: 0.7292 - val_accuracy: 0.7887\n",
      "Epoch 14/50\n",
      "200/200 [==============================] - 1s 5ms/step - loss: 0.6691 - accuracy: 0.8172 - val_loss: 0.7028 - val_accuracy: 0.7937\n",
      "Epoch 15/50\n",
      "200/200 [==============================] - 1s 5ms/step - loss: 0.6383 - accuracy: 0.8302 - val_loss: 0.6795 - val_accuracy: 0.7981\n",
      "Epoch 16/50\n",
      "200/200 [==============================] - 1s 5ms/step - loss: 0.6101 - accuracy: 0.8372 - val_loss: 0.6578 - val_accuracy: 0.8044\n",
      "Epoch 17/50\n",
      "200/200 [==============================] - 1s 5ms/step - loss: 0.5851 - accuracy: 0.8480 - val_loss: 0.6381 - val_accuracy: 0.8050\n",
      "Epoch 18/50\n",
      "200/200 [==============================] - 1s 6ms/step - loss: 0.5634 - accuracy: 0.8495 - val_loss: 0.6214 - val_accuracy: 0.8112\n",
      "Epoch 19/50\n",
      "200/200 [==============================] - 1s 6ms/step - loss: 0.5394 - accuracy: 0.8608 - val_loss: 0.6061 - val_accuracy: 0.8119\n",
      "Epoch 20/50\n",
      "200/200 [==============================] - 1s 6ms/step - loss: 0.5173 - accuracy: 0.8655 - val_loss: 0.5920 - val_accuracy: 0.8181\n",
      "Epoch 21/50\n",
      "200/200 [==============================] - 1s 6ms/step - loss: 0.4992 - accuracy: 0.8731 - val_loss: 0.5787 - val_accuracy: 0.8206\n",
      "Epoch 22/50\n",
      "200/200 [==============================] - 1s 5ms/step - loss: 0.4817 - accuracy: 0.8769 - val_loss: 0.5671 - val_accuracy: 0.8213\n",
      "Epoch 23/50\n",
      "200/200 [==============================] - 1s 6ms/step - loss: 0.4624 - accuracy: 0.8828 - val_loss: 0.5557 - val_accuracy: 0.8269\n",
      "Epoch 24/50\n",
      "200/200 [==============================] - 1s 5ms/step - loss: 0.4459 - accuracy: 0.8858 - val_loss: 0.5462 - val_accuracy: 0.8281\n",
      "Epoch 25/50\n",
      "200/200 [==============================] - 1s 5ms/step - loss: 0.4320 - accuracy: 0.8928 - val_loss: 0.5380 - val_accuracy: 0.8281\n",
      "Epoch 26/50\n",
      "200/200 [==============================] - 1s 6ms/step - loss: 0.4175 - accuracy: 0.8966 - val_loss: 0.5288 - val_accuracy: 0.8306\n",
      "Epoch 27/50\n",
      "200/200 [==============================] - 1s 5ms/step - loss: 0.4017 - accuracy: 0.9006 - val_loss: 0.5214 - val_accuracy: 0.8331\n",
      "Epoch 28/50\n",
      "200/200 [==============================] - 1s 6ms/step - loss: 0.3872 - accuracy: 0.9053 - val_loss: 0.5148 - val_accuracy: 0.8319\n",
      "Epoch 29/50\n",
      "200/200 [==============================] - 1s 6ms/step - loss: 0.3743 - accuracy: 0.9084 - val_loss: 0.5083 - val_accuracy: 0.8338\n",
      "Epoch 30/50\n",
      "200/200 [==============================] - 1s 5ms/step - loss: 0.3642 - accuracy: 0.9116 - val_loss: 0.5025 - val_accuracy: 0.8313\n",
      "Epoch 31/50\n",
      "200/200 [==============================] - 1s 6ms/step - loss: 0.3517 - accuracy: 0.9137 - val_loss: 0.4972 - val_accuracy: 0.8338\n",
      "Epoch 32/50\n",
      "200/200 [==============================] - 1s 6ms/step - loss: 0.3412 - accuracy: 0.9152 - val_loss: 0.4926 - val_accuracy: 0.8300\n",
      "Epoch 33/50\n",
      "200/200 [==============================] - 1s 5ms/step - loss: 0.3300 - accuracy: 0.9217 - val_loss: 0.4883 - val_accuracy: 0.8300\n",
      "Epoch 34/50\n",
      "200/200 [==============================] - 1s 5ms/step - loss: 0.3170 - accuracy: 0.9231 - val_loss: 0.4841 - val_accuracy: 0.8306\n",
      "Epoch 35/50\n",
      "200/200 [==============================] - 1s 5ms/step - loss: 0.3087 - accuracy: 0.9252 - val_loss: 0.4806 - val_accuracy: 0.8313\n",
      "Epoch 36/50\n",
      "200/200 [==============================] - 1s 5ms/step - loss: 0.3015 - accuracy: 0.9261 - val_loss: 0.4772 - val_accuracy: 0.8294\n",
      "Epoch 37/50\n",
      "200/200 [==============================] - 1s 6ms/step - loss: 0.2887 - accuracy: 0.9325 - val_loss: 0.4744 - val_accuracy: 0.8325\n",
      "Epoch 38/50\n",
      "200/200 [==============================] - 1s 5ms/step - loss: 0.2809 - accuracy: 0.9336 - val_loss: 0.4718 - val_accuracy: 0.8325\n",
      "Epoch 39/50\n",
      "200/200 [==============================] - 1s 6ms/step - loss: 0.2728 - accuracy: 0.9328 - val_loss: 0.4698 - val_accuracy: 0.8294\n",
      "Epoch 40/50\n",
      "200/200 [==============================] - 1s 6ms/step - loss: 0.2647 - accuracy: 0.9380 - val_loss: 0.4681 - val_accuracy: 0.8306\n",
      "Epoch 41/50\n",
      "200/200 [==============================] - 1s 5ms/step - loss: 0.2551 - accuracy: 0.9428 - val_loss: 0.4668 - val_accuracy: 0.8313\n",
      "Epoch 42/50\n",
      "200/200 [==============================] - 1s 6ms/step - loss: 0.2472 - accuracy: 0.9430 - val_loss: 0.4655 - val_accuracy: 0.8319\n",
      "Epoch 43/50\n",
      "200/200 [==============================] - 1s 5ms/step - loss: 0.2403 - accuracy: 0.9456 - val_loss: 0.4645 - val_accuracy: 0.8306\n",
      "Epoch 44/50\n",
      "200/200 [==============================] - 1s 5ms/step - loss: 0.2355 - accuracy: 0.9463 - val_loss: 0.4637 - val_accuracy: 0.8269\n",
      "Epoch 45/50\n",
      "200/200 [==============================] - 1s 5ms/step - loss: 0.2260 - accuracy: 0.9488 - val_loss: 0.4627 - val_accuracy: 0.8306\n",
      "Epoch 46/50\n",
      "200/200 [==============================] - 1s 5ms/step - loss: 0.2192 - accuracy: 0.9520 - val_loss: 0.4622 - val_accuracy: 0.8300\n",
      "Epoch 47/50\n",
      "200/200 [==============================] - 1s 5ms/step - loss: 0.2125 - accuracy: 0.9544 - val_loss: 0.4623 - val_accuracy: 0.8256\n",
      "Epoch 48/50\n",
      "200/200 [==============================] - 1s 5ms/step - loss: 0.2059 - accuracy: 0.9531 - val_loss: 0.4617 - val_accuracy: 0.8300\n",
      "Epoch 49/50\n",
      "200/200 [==============================] - 1s 6ms/step - loss: 0.2001 - accuracy: 0.9570 - val_loss: 0.4623 - val_accuracy: 0.8288\n",
      "Epoch 50/50\n",
      "200/200 [==============================] - 1s 5ms/step - loss: 0.1941 - accuracy: 0.9583 - val_loss: 0.4632 - val_accuracy: 0.8256\n"
     ]
    }
   ],
   "source": [
    "#epochs = 30\n",
    "epochs = 50\n",
    "history = model.fit(\n",
    "    train_ds,\n",
    "    validation_data=val_ds,\n",
    "    epochs=epochs)"
   ]
  },
  {
   "cell_type": "code",
   "execution_count": 25,
   "id": "e1afb72c",
   "metadata": {},
   "outputs": [
    {
     "name": "stdout",
     "output_type": "stream",
     "text": [
      "250/250 [==============================] - 1s 3ms/step - loss: 0.5208 - accuracy: 0.8006\n",
      "Loss:  0.5208292603492737\n",
      "Accuracy:  0.8006250262260437\n"
     ]
    }
   ],
   "source": [
    "loss, accuracy = model.evaluate(test_ds)\n",
    "\n",
    "print(\"Loss: \", loss)\n",
    "print(\"Accuracy: \", accuracy)"
   ]
  },
  {
   "cell_type": "code",
   "execution_count": 26,
   "id": "a4993614",
   "metadata": {},
   "outputs": [
    {
     "data": {
      "text/plain": [
       "dict_keys(['loss', 'accuracy', 'val_loss', 'val_accuracy'])"
      ]
     },
     "execution_count": 26,
     "metadata": {},
     "output_type": "execute_result"
    }
   ],
   "source": [
    "history_dict = history.history\n",
    "history_dict.keys()\n"
   ]
  },
  {
   "cell_type": "code",
   "execution_count": 27,
   "id": "49b317ce",
   "metadata": {},
   "outputs": [
    {
     "data": {
      "image/png": "[encoded data removed]",
      "text/plain": [
       "<Figure size 432x288 with 1 Axes>"
      ]
     },
     "metadata": {
      "needs_background": "light"
     },
     "output_type": "display_data"
    }
   ],
   "source": [
    "acc = history_dict['accuracy']\n",
    "val_acc = history_dict['val_accuracy']\n",
    "loss = history_dict['loss']\n",
    "val_loss = history_dict['val_loss']\n",
    "\n",
    "epochs = range(1, len(acc) + 1)\n",
    "\n",
    "# \"bo\" is for \"blue dot\"\n",
    "plt.plot(epochs, loss, 'bo', label='Training loss')\n",
    "# b is for \"solid blue line\"\n",
    "plt.plot(epochs, val_loss, 'b', label='Validation loss')\n",
    "plt.title('Training and validation loss')\n",
    "plt.xlabel('Epochs')\n",
    "plt.ylabel('Loss')\n",
    "plt.legend()\n",
    "\n",
    "plt.show()"
   ]
  },
  {
   "cell_type": "code",
   "execution_count": 28,
   "id": "2ce12725",
   "metadata": {},
   "outputs": [
    {
     "data": {
      "image/png": "[encoded data removed]",
      "text/plain": [
       "<Figure size 432x288 with 1 Axes>"
      ]
     },
     "metadata": {
      "needs_background": "light"
     },
     "output_type": "display_data"
    }
   ],
   "source": [
    "plt.plot(epochs, acc, 'bo', label='Training acc')\n",
    "plt.plot(epochs, val_acc, 'b', label='Validation acc')\n",
    "plt.title('Training and validation accuracy')\n",
    "plt.xlabel('Epochs')\n",
    "plt.ylabel('Accuracy')\n",
    "plt.legend(loc='lower right')\n",
    "\n",
    "plt.show()"
   ]
  },
  {
   "cell_type": "code",
   "execution_count": 29,
   "id": "c7a1e8a0",
   "metadata": {},
   "outputs": [
    {
     "name": "stdout",
     "output_type": "stream",
     "text": [
      "250/250 [==============================] - 1s 5ms/step - loss: 0.5208 - accuracy: 0.8006\n",
      "0.8006250262260437\n"
     ]
    }
   ],
   "source": [
    "export_model = tf.keras.Sequential([\n",
    "  vectorize_layer,\n",
    "  model,\n",
    "  layers.Activation('softmax')\n",
    "])\n",
    "\n",
    "export_model.compile(\n",
    "    loss=losses.SparseCategoricalCrossentropy(from_logits=False), optimizer=\"adam\", metrics=['accuracy']\n",
    ")\n",
    "\n",
    "# Test it with `raw_test_ds`, which yields raw strings\n",
    "loss, accuracy = export_model.evaluate(raw_test_ds)\n",
    "print(accuracy)"
   ]
  },
  {
   "cell_type": "markdown",
   "id": "f2c7d13c",
   "metadata": {},
   "source": [
    "# strip all the punctuation (30 epoch \n",
    "\n",
    "250/250 [==============================] - 2s 6ms/step - loss: 0.5595 - accuracy: 0.7979\n",
    "0.7978749871253967\n",
    "\n",
    "# remaining all the punctuation \n",
    "\n",
    "250/250 [==============================] - 1s 5ms/step - loss: 0.5208 - accuracy: 0.8006\n",
    "0.8006250262260437"
   ]
  },
  {
   "cell_type": "code",
   "execution_count": 30,
   "id": "c517b06b",
   "metadata": {},
   "outputs": [
    {
     "data": {
      "text/plain": [
       "array([[0.29829714, 0.2518515 , 0.31187907, 0.13797228],\n",
       "       [0.21435972, 0.2011904 , 0.3480053 , 0.23644458],\n",
       "       [0.45941448, 0.2026607 , 0.21134934, 0.12657547],\n",
       "       [0.2169258 , 0.16466887, 0.46212018, 0.15628514]], dtype=float32)"
      ]
     },
     "execution_count": 30,
     "metadata": {},
     "output_type": "execute_result"
    }
   ],
   "source": [
    "examples = [\n",
    "  \"Csharp\",\n",
    "  \"virtual machine, java package\",\n",
    "  \"Javascript often abbreviated as JS, is a programming language that conforms to the ECMAScript specification\",\n",
    "  \"Python is a great script language!!\"]\n",
    "\n",
    "export_model.predict(examples)"
   ]
  },
  {
   "cell_type": "markdown",
   "id": "d1cba9f2",
   "metadata": {},
   "source": [
    "# stackoverflow!!!"
   ]
  },
  {
   "cell_type": "code",
   "execution_count": null,
   "id": "2dff96be",
   "metadata": {},
   "outputs": [],
   "source": []
  }
 ],
 "metadata": {
  "kernelspec": {
   "display_name": "Python 3 (ipykernel)",
   "language": "python",
   "name": "python3"
  },
  "language_info": {
   "codemirror_mode": {
    "name": "ipython",
    "version": 3
   },
   "file_extension": ".py",
   "mimetype": "text/x-python",
   "name": "python",
   "nbconvert_exporter": "python",
   "pygments_lexer": "ipython3",
   "version": "3.8.10"
  }
 },
 "nbformat": 4,
 "nbformat_minor": 5
}

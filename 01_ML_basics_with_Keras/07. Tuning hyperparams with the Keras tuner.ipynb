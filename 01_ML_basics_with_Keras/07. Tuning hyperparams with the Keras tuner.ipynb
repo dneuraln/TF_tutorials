{
 "cells": [
  {
   "cell_type": "code",
   "execution_count": 1,
   "id": "130579eb",
   "metadata": {},
   "outputs": [],
   "source": [
    "import tensorflow as tf\n",
    "from tensorflow import keras\n"
   ]
  },
  {
   "cell_type": "code",
   "execution_count": 2,
   "id": "31bb91d5",
   "metadata": {},
   "outputs": [],
   "source": [
    "import keras_tuner as kt\n"
   ]
  },
  {
   "cell_type": "code",
   "execution_count": 3,
   "id": "0ea29cac",
   "metadata": {},
   "outputs": [],
   "source": [
    "(img_train, label_train), (img_test, label_test) = keras.datasets.fashion_mnist.load_data()"
   ]
  },
  {
   "cell_type": "code",
   "execution_count": 4,
   "id": "538252a6",
   "metadata": {},
   "outputs": [],
   "source": [
    "# Normalize pixel values between 0 and 1\n",
    "img_train = img_train.astype('float32') / 255.0\n",
    "img_test = img_test.astype('float32') / 255.0"
   ]
  },
  {
   "cell_type": "code",
   "execution_count": 5,
   "id": "1ba4dd82",
   "metadata": {},
   "outputs": [],
   "source": [
    "def model_builder(hp):\n",
    "  model = keras.Sequential()\n",
    "  model.add(keras.layers.Flatten(input_shape=(28, 28)))\n",
    "\n",
    "  # Tune the number of units in the first Dense layer\n",
    "  # Choose an optimal value between 32-512\n",
    "  hp_units = hp.Int('units', min_value=32, max_value=512, step=32)\n",
    "  model.add(keras.layers.Dense(units=hp_units, activation='relu'))\n",
    "  model.add(keras.layers.Dense(10))\n",
    "\n",
    "  # Tune the learning rate for the optimizer\n",
    "  # Choose an optimal value from 0.01, 0.001, or 0.0001\n",
    "  hp_learning_rate = hp.Choice('learning_rate', values=[1e-2, 1e-3, 1e-4])\n",
    "\n",
    "  model.compile(optimizer=keras.optimizers.Adam(learning_rate=hp_learning_rate),\n",
    "                loss=keras.losses.SparseCategoricalCrossentropy(from_logits=True),\n",
    "                metrics=['accuracy'])\n",
    "\n",
    "  return model"
   ]
  },
  {
   "cell_type": "code",
   "execution_count": 6,
   "id": "cfc7e9c2",
   "metadata": {},
   "outputs": [
    {
     "name": "stderr",
     "output_type": "stream",
     "text": [
      "2021-09-10 13:22:24.350327: I tensorflow/core/common_runtime/gpu/gpu_device.cc:1525] Created device /job:localhost/replica:0/task:0/device:GPU:0 with 47220 MB memory:  -> device: 0, name: Quadro RTX 8000, pci bus id: 0000:67:00.0, compute capability: 7.5\n",
      "2021-09-10 13:22:24.351874: I tensorflow/core/common_runtime/gpu/gpu_device.cc:1525] Created device /job:localhost/replica:0/task:0/device:GPU:1 with 46865 MB memory:  -> device: 1, name: Quadro RTX 8000, pci bus id: 0000:68:00.0, compute capability: 7.5\n"
     ]
    }
   ],
   "source": [
    "tuner = kt.Hyperband(model_builder,\n",
    "                     objective='val_accuracy',\n",
    "                     max_epochs=10,\n",
    "                     factor=3,\n",
    "                     directory='my_dir',\n",
    "                     project_name='intro_to_kt')"
   ]
  },
  {
   "cell_type": "code",
   "execution_count": 7,
   "id": "f9255d59",
   "metadata": {},
   "outputs": [],
   "source": [
    "#Create a callback to stop training early after reaching a certain value for the validation loss.\n",
    "stop_early = tf.keras.callbacks.EarlyStopping(monitor='val_loss', patience=5)"
   ]
  },
  {
   "cell_type": "code",
   "execution_count": 8,
   "id": "2079e110",
   "metadata": {},
   "outputs": [
    {
     "name": "stdout",
     "output_type": "stream",
     "text": [
      "Trial 30 Complete [00h 01m 01s]\n",
      "val_accuracy: 0.8769166469573975\n",
      "\n",
      "Best val_accuracy So Far: 0.8924999833106995\n",
      "Total elapsed time: 00h 12m 28s\n",
      "INFO:tensorflow:Oracle triggered exit\n",
      "\n",
      "The hyperparameter search is complete. The optimal number of units in the first densely-connected\n",
      "layer is 192 and the optimal learning rate for the optimizer\n",
      "is 0.001.\n",
      "\n"
     ]
    }
   ],
   "source": [
    "tuner.search(img_train, label_train, epochs=50, validation_split=0.2, callbacks=[stop_early])\n",
    "\n",
    "# Get the optimal hyperparameters\n",
    "best_hps=tuner.get_best_hyperparameters(num_trials=1)[0]\n",
    "\n",
    "print(f\"\"\"\n",
    "The hyperparameter search is complete. The optimal number of units in the first densely-connected\n",
    "layer is {best_hps.get('units')} and the optimal learning rate for the optimizer\n",
    "is {best_hps.get('learning_rate')}.\n",
    "\"\"\")"
   ]
  },
  {
   "cell_type": "code",
   "execution_count": null,
   "id": "f325cb20",
   "metadata": {},
   "outputs": [
    {
     "name": "stdout",
     "output_type": "stream",
     "text": [
      "Epoch 1/50\n",
      "1500/1500 [==============================] - 6s 4ms/step - loss: 0.5093 - accuracy: 0.8209 - val_loss: 0.4304 - val_accuracy: 0.8410\n",
      "Epoch 2/50\n",
      "1500/1500 [==============================] - 6s 4ms/step - loss: 0.3792 - accuracy: 0.8626 - val_loss: 0.3673 - val_accuracy: 0.8648\n",
      "Epoch 3/50\n",
      "1500/1500 [==============================] - 6s 4ms/step - loss: 0.3397 - accuracy: 0.8734 - val_loss: 0.3474 - val_accuracy: 0.8722\n",
      "Epoch 4/50\n",
      "1500/1500 [==============================] - 5s 4ms/step - loss: 0.3096 - accuracy: 0.8855 - val_loss: 0.3301 - val_accuracy: 0.8814\n",
      "Epoch 5/50\n",
      "1500/1500 [==============================] - 6s 4ms/step - loss: 0.2948 - accuracy: 0.8911 - val_loss: 0.3329 - val_accuracy: 0.8816\n",
      "Epoch 6/50\n",
      "1500/1500 [==============================] - 6s 4ms/step - loss: 0.2761 - accuracy: 0.8983 - val_loss: 0.3358 - val_accuracy: 0.8807\n",
      "Epoch 7/50\n",
      "1500/1500 [==============================] - 6s 4ms/step - loss: 0.2638 - accuracy: 0.9023 - val_loss: 0.3362 - val_accuracy: 0.8793\n",
      "Epoch 8/50\n",
      "1500/1500 [==============================] - 6s 4ms/step - loss: 0.2522 - accuracy: 0.9059 - val_loss: 0.3509 - val_accuracy: 0.8799\n",
      "Epoch 9/50\n",
      "1500/1500 [==============================] - 6s 4ms/step - loss: 0.2401 - accuracy: 0.9109 - val_loss: 0.3112 - val_accuracy: 0.8914\n",
      "Epoch 10/50\n",
      "1500/1500 [==============================] - 6s 4ms/step - loss: 0.2310 - accuracy: 0.9137 - val_loss: 0.3219 - val_accuracy: 0.8875\n",
      "Epoch 11/50\n",
      "1500/1500 [==============================] - 6s 4ms/step - loss: 0.2244 - accuracy: 0.9160 - val_loss: 0.3384 - val_accuracy: 0.8841\n",
      "Epoch 12/50\n",
      "1500/1500 [==============================] - 6s 4ms/step - loss: 0.2161 - accuracy: 0.9196 - val_loss: 0.3087 - val_accuracy: 0.8930\n",
      "Epoch 13/50\n",
      "1500/1500 [==============================] - 6s 4ms/step - loss: 0.2086 - accuracy: 0.9215 - val_loss: 0.3163 - val_accuracy: 0.8884\n",
      "Epoch 14/50\n",
      "1500/1500 [==============================] - 6s 4ms/step - loss: 0.2013 - accuracy: 0.9240 - val_loss: 0.3284 - val_accuracy: 0.8873\n",
      "Epoch 15/50\n",
      "1500/1500 [==============================] - 6s 4ms/step - loss: 0.1954 - accuracy: 0.9274 - val_loss: 0.3200 - val_accuracy: 0.8939\n",
      "Epoch 16/50\n",
      "1500/1500 [==============================] - 6s 4ms/step - loss: 0.1877 - accuracy: 0.9304 - val_loss: 0.3232 - val_accuracy: 0.8917\n",
      "Epoch 17/50\n",
      "1500/1500 [==============================] - 6s 4ms/step - loss: 0.1829 - accuracy: 0.9306 - val_loss: 0.3352 - val_accuracy: 0.8873\n",
      "Epoch 18/50\n",
      "1500/1500 [==============================] - 6s 4ms/step - loss: 0.1766 - accuracy: 0.9335 - val_loss: 0.3363 - val_accuracy: 0.8913\n",
      "Epoch 19/50\n",
      "1500/1500 [==============================] - 6s 4ms/step - loss: 0.1710 - accuracy: 0.9350 - val_loss: 0.3506 - val_accuracy: 0.8938\n",
      "Epoch 20/50\n",
      "1500/1500 [==============================] - 6s 4ms/step - loss: 0.1646 - accuracy: 0.9375 - val_loss: 0.3682 - val_accuracy: 0.8811\n",
      "Epoch 21/50\n",
      "1500/1500 [==============================] - 6s 4ms/step - loss: 0.1589 - accuracy: 0.9407 - val_loss: 0.3516 - val_accuracy: 0.8922\n",
      "Epoch 22/50\n",
      "1500/1500 [==============================] - 6s 4ms/step - loss: 0.1560 - accuracy: 0.9417 - val_loss: 0.3556 - val_accuracy: 0.8903\n",
      "Epoch 23/50\n",
      "1500/1500 [==============================] - 6s 4ms/step - loss: 0.1512 - accuracy: 0.9427 - val_loss: 0.3439 - val_accuracy: 0.8927\n",
      "Epoch 24/50\n",
      "1500/1500 [==============================] - 6s 4ms/step - loss: 0.1464 - accuracy: 0.9455 - val_loss: 0.3506 - val_accuracy: 0.8942\n",
      "Epoch 25/50\n",
      "1500/1500 [==============================] - 6s 4ms/step - loss: 0.1426 - accuracy: 0.9459 - val_loss: 0.3754 - val_accuracy: 0.8941\n",
      "Epoch 26/50\n",
      "1500/1500 [==============================] - 6s 4ms/step - loss: 0.1403 - accuracy: 0.9469 - val_loss: 0.3588 - val_accuracy: 0.8951\n",
      "Epoch 27/50\n",
      "1500/1500 [==============================] - 5s 3ms/step - loss: 0.1331 - accuracy: 0.9499 - val_loss: 0.3880 - val_accuracy: 0.8913\n",
      "Epoch 28/50\n",
      "1281/1500 [========================>.....] - ETA: 0s - loss: 0.1324 - accuracy: 0.9514"
     ]
    }
   ],
   "source": [
    "# Build the model with the optimal hyperparameters and train it on the data for 50 epochs\n",
    "model = tuner.hypermodel.build(best_hps)\n",
    "history = model.fit(img_train, label_train, epochs=50, validation_split=0.2)\n",
    "\n",
    "val_acc_per_epoch = history.history['val_accuracy']\n",
    "best_epoch = val_acc_per_epoch.index(max(val_acc_per_epoch)) + 1\n",
    "print('Best epoch: %d' % (best_epoch,))"
   ]
  },
  {
   "cell_type": "code",
   "execution_count": null,
   "id": "396846ac",
   "metadata": {},
   "outputs": [],
   "source": [
    "hypermodel = tuner.hypermodel.build(best_hps)\n",
    "\n",
    "# Retrain the model\n",
    "hypermodel.fit(img_train, label_train, epochs=best_epoch, validation_split=0.2)"
   ]
  },
  {
   "cell_type": "code",
   "execution_count": null,
   "id": "58c51c46",
   "metadata": {},
   "outputs": [],
   "source": [
    "eval_result = hypermodel.evaluate(img_test, label_test)\n",
    "print(\"[test loss, test accuracy]:\", eval_result)"
   ]
  },
  {
   "cell_type": "code",
   "execution_count": null,
   "id": "83eb3a3e",
   "metadata": {},
   "outputs": [],
   "source": []
  }
 ],
 "metadata": {
  "kernelspec": {
   "display_name": "Python 3 (ipykernel)",
   "language": "python",
   "name": "python3"
  },
  "language_info": {
   "codemirror_mode": {
    "name": "ipython",
    "version": 3
   },
   "file_extension": ".py",
   "mimetype": "text/x-python",
   "name": "python",
   "nbconvert_exporter": "python",
   "pygments_lexer": "ipython3",
   "version": "3.8.10"
  }
 },
 "nbformat": 4,
 "nbformat_minor": 5
}

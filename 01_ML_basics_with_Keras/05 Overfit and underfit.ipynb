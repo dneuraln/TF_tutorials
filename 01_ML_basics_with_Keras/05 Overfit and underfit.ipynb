{
 "cells": [
  {
   "cell_type": "code",
   "execution_count": 1,
   "id": "8281df6c",
   "metadata": {},
   "outputs": [
    {
     "name": "stdout",
     "output_type": "stream",
     "text": [
      "2.7.0\n"
     ]
    }
   ],
   "source": [
    "import tensorflow as tf\n",
    "\n",
    "from tensorflow.keras import layers\n",
    "from tensorflow.keras import regularizers\n",
    "\n",
    "print(tf.__version__)"
   ]
  },
  {
   "cell_type": "code",
   "execution_count": 3,
   "id": "bd5253d5",
   "metadata": {},
   "outputs": [
    {
     "name": "stdout",
     "output_type": "stream",
     "text": [
      "Defaulting to user installation because normal site-packages is not writeable\n",
      "Collecting git+https://github.com/tensorflow/docs\n",
      "  Cloning https://github.com/tensorflow/docs to /tmp/pip-req-build-6m4jqp91\n",
      "  Running command git clone -q https://github.com/tensorflow/docs /tmp/pip-req-build-6m4jqp91\n",
      "  Resolved https://github.com/tensorflow/docs to commit 222063b041379f4d385114b9fb76f88292504858\n",
      "Requirement already satisfied: absl-py in /home/maker/.local/lib/python3.8/site-packages (from tensorflow-docs===0.0.0222063b041379f4d385114b9fb76f88292504858-) (0.12.0)\n",
      "Collecting astor\n",
      "  Downloading astor-0.8.1-py2.py3-none-any.whl (27 kB)\n",
      "Requirement already satisfied: protobuf>=3.14 in /home/maker/.local/lib/python3.8/site-packages (from tensorflow-docs===0.0.0222063b041379f4d385114b9fb76f88292504858-) (3.17.3)\n",
      "Requirement already satisfied: pyyaml in /usr/lib/python3/dist-packages (from tensorflow-docs===0.0.0222063b041379f4d385114b9fb76f88292504858-) (5.3.1)\n",
      "Requirement already satisfied: six>=1.9 in /home/maker/.local/lib/python3.8/site-packages (from protobuf>=3.14->tensorflow-docs===0.0.0222063b041379f4d385114b9fb76f88292504858-) (1.15.0)\n",
      "Building wheels for collected packages: tensorflow-docs\n",
      "  Building wheel for tensorflow-docs (setup.py) ... \u001b[?25ldone\n",
      "\u001b[?25h  Created wheel for tensorflow-docs: filename=tensorflow_docs-0.0.0222063b041379f4d385114b9fb76f88292504858_-py3-none-any.whl size=157197 sha256=2a7d42628a9857421da55181bef59e1398c5352d756b632f10c63fbf7793011d\n",
      "  Stored in directory: /tmp/pip-ephem-wheel-cache-k24gavwl/wheels/3b/ee/a2/ab4d36a9a4af495bcb936f3e849d4b497b65fa40548a68d6c3\n",
      "\u001b[33m  WARNING: Built wheel for tensorflow-docs is invalid: Metadata 1.2 mandates PEP 440 version, but '0.0.0222063b041379f4d385114b9fb76f88292504858-' is not\u001b[0m\n",
      "Failed to build tensorflow-docs\n",
      "Installing collected packages: astor, tensorflow-docs\n",
      "    Running setup.py install for tensorflow-docs ... \u001b[?25ldone\n",
      "\u001b[33m  DEPRECATION: tensorflow-docs was installed using the legacy 'setup.py install' method, because a wheel could not be built for it. A possible replacement is to fix the wheel build issue reported above. You can find discussion regarding this at https://github.com/pypa/pip/issues/8368.\u001b[0m\n",
      "\u001b[?25hSuccessfully installed astor-0.8.1 tensorflow-docs-0.0.0222063b041379f4d385114b9fb76f88292504858-\n"
     ]
    }
   ],
   "source": [
    "!pip install git+https://github.com/tensorflow/docs\n",
    "import tensorflow_docs as tfdocs\n",
    "import tensorflow_docs.modeling\n",
    "import tensorflow_docs.plots"
   ]
  },
  {
   "cell_type": "code",
   "execution_count": 4,
   "id": "33cff428",
   "metadata": {},
   "outputs": [],
   "source": [
    "from  IPython import display\n",
    "from matplotlib import pyplot as plt\n",
    "\n",
    "import numpy as np\n",
    "\n",
    "import pathlib\n",
    "import shutil\n",
    "import tempfile"
   ]
  },
  {
   "cell_type": "code",
   "execution_count": 5,
   "id": "78e7504c",
   "metadata": {},
   "outputs": [],
   "source": [
    "logdir = pathlib.Path(tempfile.mkdtemp())/\"tensorboard_logs\"\n",
    "shutil.rmtree(logdir, ignore_errors=True)"
   ]
  },
  {
   "cell_type": "markdown",
   "id": "d1ae3964",
   "metadata": {},
   "source": [
    "# The Higgs Dataset"
   ]
  },
  {
   "cell_type": "code",
   "execution_count": 7,
   "id": "6e64fe41",
   "metadata": {},
   "outputs": [
    {
     "name": "stdout",
     "output_type": "stream",
     "text": [
      "Downloading data from http://mlphysics.ics.uci.edu/data/higgs/HIGGS.csv.gz\n",
      "2816409600/2816407858 [==============================] - 442s 0us/step\n",
      "2816417792/2816407858 [==============================] - 442s 0us/step\n"
     ]
    }
   ],
   "source": [
    "gz = tf.keras.utils.get_file('HIGGS.csv.gz', 'http://mlphysics.ics.uci.edu/data/higgs/HIGGS.csv.gz')"
   ]
  },
  {
   "cell_type": "code",
   "execution_count": 8,
   "id": "268f8b11",
   "metadata": {},
   "outputs": [],
   "source": [
    "FEATURES = 28"
   ]
  },
  {
   "cell_type": "code",
   "execution_count": 9,
   "id": "bd15ebea",
   "metadata": {},
   "outputs": [
    {
     "name": "stderr",
     "output_type": "stream",
     "text": [
      "2021-09-10 11:15:18.679663: I tensorflow/core/common_runtime/gpu/gpu_device.cc:1525] Created device /job:localhost/replica:0/task:0/device:GPU:0 with 294 MB memory:  -> device: 0, name: Quadro RTX 8000, pci bus id: 0000:67:00.0, compute capability: 7.5\n",
      "2021-09-10 11:15:18.681179: I tensorflow/core/common_runtime/gpu/gpu_device.cc:1525] Created device /job:localhost/replica:0/task:0/device:GPU:1 with 46569 MB memory:  -> device: 1, name: Quadro RTX 8000, pci bus id: 0000:68:00.0, compute capability: 7.5\n"
     ]
    }
   ],
   "source": [
    "ds = tf.data.experimental.CsvDataset(gz,[float(),]*(FEATURES+1), compression_type=\"GZIP\")"
   ]
  },
  {
   "cell_type": "code",
   "execution_count": 10,
   "id": "a2b7ca79",
   "metadata": {},
   "outputs": [],
   "source": [
    "def pack_row(*row):\n",
    "  label = row[0]\n",
    "  features = tf.stack(row[1:],1)\n",
    "  return features, label"
   ]
  },
  {
   "cell_type": "code",
   "execution_count": 11,
   "id": "48f89ef5",
   "metadata": {},
   "outputs": [],
   "source": [
    "packed_ds = ds.batch(10000).map(pack_row).unbatch()"
   ]
  },
  {
   "cell_type": "code",
   "execution_count": 12,
   "id": "8257664c",
   "metadata": {},
   "outputs": [
    {
     "name": "stdout",
     "output_type": "stream",
     "text": [
      "tf.Tensor(\n",
      "[ 0.8692932  -0.6350818   0.22569026  0.32747006 -0.6899932   0.75420225\n",
      " -0.24857314 -1.0920639   0.          1.3749921  -0.6536742   0.9303491\n",
      "  1.1074361   1.1389043  -1.5781983  -1.0469854   0.          0.65792954\n",
      " -0.01045457 -0.04576717  3.1019614   1.35376     0.9795631   0.97807616\n",
      "  0.92000484  0.72165745  0.98875093  0.87667835], shape=(28,), dtype=float32)\n"
     ]
    },
    {
     "data": {
      "image/png": "[encoded data removed]",
      "text/plain": [
       "<Figure size 432x288 with 1 Axes>"
      ]
     },
     "metadata": {
      "needs_background": "light"
     },
     "output_type": "display_data"
    }
   ],
   "source": [
    "for features,label in packed_ds.batch(1000).take(1):\n",
    "  print(features[0])\n",
    "  plt.hist(features.numpy().flatten(), bins = 101)"
   ]
  },
  {
   "cell_type": "code",
   "execution_count": 13,
   "id": "8c8e8c6e",
   "metadata": {},
   "outputs": [],
   "source": [
    "N_VALIDATION = int(1e3)\n",
    "N_TRAIN = int(1e4)\n",
    "BUFFER_SIZE = int(1e4)\n",
    "BATCH_SIZE = 500\n",
    "STEPS_PER_EPOCH = N_TRAIN//BATCH_SIZE"
   ]
  },
  {
   "cell_type": "code",
   "execution_count": 14,
   "id": "69cdfe88",
   "metadata": {},
   "outputs": [],
   "source": [
    "validate_ds = packed_ds.take(N_VALIDATION).cache()\n",
    "train_ds = packed_ds.skip(N_VALIDATION).take(N_TRAIN).cache()"
   ]
  },
  {
   "cell_type": "code",
   "execution_count": 15,
   "id": "f5d7c290",
   "metadata": {},
   "outputs": [
    {
     "data": {
      "text/plain": [
       "<CacheDataset shapes: ((28,), ()), types: (tf.float32, tf.float32)>"
      ]
     },
     "execution_count": 15,
     "metadata": {},
     "output_type": "execute_result"
    }
   ],
   "source": [
    "train_ds\n"
   ]
  },
  {
   "cell_type": "code",
   "execution_count": 16,
   "id": "0544576f",
   "metadata": {},
   "outputs": [],
   "source": [
    "validate_ds = validate_ds.batch(BATCH_SIZE)\n",
    "train_ds = train_ds.shuffle(BUFFER_SIZE).repeat().batch(BATCH_SIZE)"
   ]
  },
  {
   "cell_type": "code",
   "execution_count": 17,
   "id": "a5f8062c",
   "metadata": {},
   "outputs": [],
   "source": [
    "# overfitting"
   ]
  },
  {
   "cell_type": "code",
   "execution_count": 18,
   "id": "e1242dbc",
   "metadata": {},
   "outputs": [],
   "source": [
    "lr_schedule = tf.keras.optimizers.schedules.InverseTimeDecay(\n",
    "  0.001,\n",
    "  decay_steps=STEPS_PER_EPOCH*1000,\n",
    "  decay_rate=1,\n",
    "  staircase=False)\n",
    "\n",
    "def get_optimizer():\n",
    "  return tf.keras.optimizers.Adam(lr_schedule)\n",
    "\n",
    "def get_callbacks(name):\n",
    "  return [\n",
    "    tfdocs.modeling.EpochDots(),\n",
    "    tf.keras.callbacks.EarlyStopping(monitor='val_binary_crossentropy', patience=200),\n",
    "    tf.keras.callbacks.TensorBoard(logdir/name),\n",
    "  ]\n",
    "def compile_and_fit(model, name, optimizer=None, max_epochs=10000):\n",
    "  if optimizer is None:\n",
    "    optimizer = get_optimizer()\n",
    "  model.compile(optimizer=optimizer,\n",
    "                loss=tf.keras.losses.BinaryCrossentropy(from_logits=True),\n",
    "                metrics=[\n",
    "                  tf.keras.losses.BinaryCrossentropy(\n",
    "                      from_logits=True, name='binary_crossentropy'),\n",
    "                  'accuracy'])\n",
    "\n",
    "  model.summary()\n",
    "\n",
    "  history = model.fit(\n",
    "    train_ds,\n",
    "    steps_per_epoch = STEPS_PER_EPOCH,\n",
    "    epochs=max_epochs,\n",
    "    validation_data=validate_ds,\n",
    "    callbacks=get_callbacks(name),\n",
    "    verbose=0)\n",
    "  return history\n",
    "\n"
   ]
  },
  {
   "cell_type": "markdown",
   "id": "a8ed1977",
   "metadata": {},
   "source": [
    "# tiny model"
   ]
  },
  {
   "cell_type": "code",
   "execution_count": 20,
   "id": "43c223f0",
   "metadata": {},
   "outputs": [
    {
     "name": "stdout",
     "output_type": "stream",
     "text": [
      "Model: \"sequential\"\n",
      "_________________________________________________________________\n",
      "Layer (type)                 Output Shape              Param #   \n",
      "=================================================================\n",
      "dense (Dense)                (None, 16)                464       \n",
      "_________________________________________________________________\n",
      "dense_1 (Dense)              (None, 1)                 17        \n",
      "_________________________________________________________________\n",
      "=================================================================\n",
      "Total params: 481\n",
      "Trainable params: 481\n",
      "Non-trainable params: 0\n",
      "_________________________________________________________________\n"
     ]
    },
    {
     "name": "stderr",
     "output_type": "stream",
     "text": [
      "2021-09-10 11:21:03.881167: I tensorflow/core/profiler/lib/profiler_session.cc:110] Profiler session initializing.\n",
      "2021-09-10 11:21:03.881199: I tensorflow/core/profiler/lib/profiler_session.cc:125] Profiler session started.\n",
      "2021-09-10 11:21:03.882120: I tensorflow/core/profiler/internal/gpu/cupti_tracer.cc:1630] Profiler found 2 GPUs\n",
      "2021-09-10 11:21:03.882480: W tensorflow/stream_executor/platform/default/dso_loader.cc:64] Could not load dynamic library 'libcupti.so.11.4'; dlerror: libcupti.so.11.4: cannot open shared object file: No such file or directory\n",
      "2021-09-10 11:21:03.882581: W tensorflow/stream_executor/platform/default/dso_loader.cc:64] Could not load dynamic library 'libcupti.so'; dlerror: libcupti.so: cannot open shared object file: No such file or directory\n",
      "2021-09-10 11:21:03.882593: E tensorflow/core/profiler/internal/gpu/cupti_tracer.cc:1681] function cupti_interface_->Subscribe( &subscriber_, (CUpti_CallbackFunc)ApiCallback, this)failed with error CUPTI could not be loaded or symbol could not be found.\n",
      "2021-09-10 11:21:03.882680: I tensorflow/core/profiler/lib/profiler_session.cc:143] Profiler session tear down.\n",
      "2021-09-10 11:21:03.882703: E tensorflow/core/profiler/internal/gpu/cupti_tracer.cc:1773] function cupti_interface_->Finalize()failed with error CUPTI could not be loaded or symbol could not be found.\n"
     ]
    },
    {
     "name": "stdout",
     "output_type": "stream",
     "text": [
      "WARNING:tensorflow:Callback method `on_train_batch_end` is slow compared to the batch time (batch time: 0.0041s vs `on_train_batch_end` time: 0.0105s). Check your callbacks.\n"
     ]
    },
    {
     "name": "stderr",
     "output_type": "stream",
     "text": [
      "2021-09-10 11:21:11.152932: I tensorflow/core/profiler/lib/profiler_session.cc:110] Profiler session initializing.\n",
      "2021-09-10 11:21:11.152970: I tensorflow/core/profiler/lib/profiler_session.cc:125] Profiler session started.\n",
      "2021-09-10 11:21:11.153104: E tensorflow/core/profiler/internal/gpu/cupti_tracer.cc:1681] function cupti_interface_->Subscribe( &subscriber_, (CUpti_CallbackFunc)ApiCallback, this)failed with error CUPTI could not be loaded or symbol could not be found.\n",
      "2021-09-10 11:21:11.160404: I tensorflow/core/profiler/lib/profiler_session.cc:67] Profiler session collecting data.\n",
      "2021-09-10 11:21:11.160544: E tensorflow/core/profiler/internal/gpu/cupti_tracer.cc:1773] function cupti_interface_->Finalize()failed with error CUPTI could not be loaded or symbol could not be found.\n",
      "2021-09-10 11:21:11.167044: I tensorflow/core/profiler/internal/gpu/cupti_collector.cc:526]  GpuTracer has collected 0 callback api events and 0 activity events. \n",
      "2021-09-10 11:21:11.172196: I tensorflow/core/profiler/lib/profiler_session.cc:143] Profiler session tear down.\n",
      "2021-09-10 11:21:11.183450: I tensorflow/core/profiler/rpc/client/save_profile.cc:136] Creating directory: /tmp/tmpz_5wn94q/tensorboard_logs/sizes/Tiny/plugins/profile/2021_09_10_11_21_11\n",
      "\n",
      "2021-09-10 11:21:11.189884: I tensorflow/core/profiler/rpc/client/save_profile.cc:142] Dumped gzipped tool data for trace.json.gz to /tmp/tmpz_5wn94q/tensorboard_logs/sizes/Tiny/plugins/profile/2021_09_10_11_21_11/Developer.trace.json.gz\n",
      "2021-09-10 11:21:11.198203: I tensorflow/core/profiler/rpc/client/save_profile.cc:136] Creating directory: /tmp/tmpz_5wn94q/tensorboard_logs/sizes/Tiny/plugins/profile/2021_09_10_11_21_11\n",
      "\n",
      "2021-09-10 11:21:11.198759: I tensorflow/core/profiler/rpc/client/save_profile.cc:142] Dumped gzipped tool data for memory_profile.json.gz to /tmp/tmpz_5wn94q/tensorboard_logs/sizes/Tiny/plugins/profile/2021_09_10_11_21_11/Developer.memory_profile.json.gz\n",
      "2021-09-10 11:21:11.198925: I tensorflow/core/profiler/rpc/client/capture_profile.cc:251] Creating directory: /tmp/tmpz_5wn94q/tensorboard_logs/sizes/Tiny/plugins/profile/2021_09_10_11_21_11\n",
      "Dumped tool data for xplane.pb to /tmp/tmpz_5wn94q/tensorboard_logs/sizes/Tiny/plugins/profile/2021_09_10_11_21_11/Developer.xplane.pb\n",
      "Dumped tool data for overview_page.pb to /tmp/tmpz_5wn94q/tensorboard_logs/sizes/Tiny/plugins/profile/2021_09_10_11_21_11/Developer.overview_page.pb\n",
      "Dumped tool data for input_pipeline.pb to /tmp/tmpz_5wn94q/tensorboard_logs/sizes/Tiny/plugins/profile/2021_09_10_11_21_11/Developer.input_pipeline.pb\n",
      "Dumped tool data for tensorflow_stats.pb to /tmp/tmpz_5wn94q/tensorboard_logs/sizes/Tiny/plugins/profile/2021_09_10_11_21_11/Developer.tensorflow_stats.pb\n",
      "Dumped tool data for kernel_stats.pb to /tmp/tmpz_5wn94q/tensorboard_logs/sizes/Tiny/plugins/profile/2021_09_10_11_21_11/Developer.kernel_stats.pb\n",
      "\n"
     ]
    },
    {
     "name": "stdout",
     "output_type": "stream",
     "text": [
      "\n",
      "Epoch: 0, accuracy:0.4761,  binary_crossentropy:0.9381,  loss:0.9381,  val_accuracy:0.4810,  val_binary_crossentropy:0.7676,  val_loss:0.7676,  \n",
      "....................................................................................................\n",
      "Epoch: 100, accuracy:0.5842,  binary_crossentropy:0.6334,  loss:0.6334,  val_accuracy:0.5690,  val_binary_crossentropy:0.6339,  val_loss:0.6339,  \n",
      "....................................................................................................\n",
      "Epoch: 200, accuracy:0.6071,  binary_crossentropy:0.6217,  loss:0.6217,  val_accuracy:0.5860,  val_binary_crossentropy:0.6272,  val_loss:0.6272,  \n",
      "....................................................................................................\n",
      "Epoch: 300, accuracy:0.6175,  binary_crossentropy:0.6142,  loss:0.6142,  val_accuracy:0.6140,  val_binary_crossentropy:0.6212,  val_loss:0.6212,  \n",
      "....................................................................................................\n",
      "Epoch: 400, accuracy:0.6290,  binary_crossentropy:0.6084,  loss:0.6084,  val_accuracy:0.6100,  val_binary_crossentropy:0.6149,  val_loss:0.6149,  \n",
      "....................................................................................................\n",
      "Epoch: 500, accuracy:0.6418,  binary_crossentropy:0.6025,  loss:0.6025,  val_accuracy:0.6390,  val_binary_crossentropy:0.6044,  val_loss:0.6044,  \n",
      "....................................................................................................\n",
      "Epoch: 600, accuracy:0.6568,  binary_crossentropy:0.5929,  loss:0.5929,  val_accuracy:0.6330,  val_binary_crossentropy:0.5979,  val_loss:0.5979,  \n",
      "....................................................................................................\n",
      "Epoch: 700, accuracy:0.6562,  binary_crossentropy:0.5890,  loss:0.5890,  val_accuracy:0.6600,  val_binary_crossentropy:0.5915,  val_loss:0.5915,  \n",
      "....................................................................................................\n",
      "Epoch: 800, accuracy:0.6594,  binary_crossentropy:0.5856,  loss:0.5856,  val_accuracy:0.6620,  val_binary_crossentropy:0.5885,  val_loss:0.5885,  \n",
      "....................................................................................................\n",
      "Epoch: 900, accuracy:0.6706,  binary_crossentropy:0.5835,  loss:0.5835,  val_accuracy:0.6620,  val_binary_crossentropy:0.5872,  val_loss:0.5872,  \n",
      "....................................................................................................\n",
      "Epoch: 1000, accuracy:0.6737,  binary_crossentropy:0.5816,  loss:0.5816,  val_accuracy:0.6610,  val_binary_crossentropy:0.5857,  val_loss:0.5857,  \n",
      "....................................................................................................\n",
      "Epoch: 1100, accuracy:0.6736,  binary_crossentropy:0.5799,  loss:0.5799,  val_accuracy:0.6630,  val_binary_crossentropy:0.5854,  val_loss:0.5854,  \n",
      "....................................................................................................\n",
      "Epoch: 1200, accuracy:0.6755,  binary_crossentropy:0.5790,  loss:0.5790,  val_accuracy:0.6590,  val_binary_crossentropy:0.5880,  val_loss:0.5880,  \n",
      "....................................................................................................\n",
      "Epoch: 1300, accuracy:0.6749,  binary_crossentropy:0.5774,  loss:0.5774,  val_accuracy:0.6640,  val_binary_crossentropy:0.5861,  val_loss:0.5861,  \n",
      "............................"
     ]
    }
   ],
   "source": [
    "tiny_model = tf.keras.Sequential([\n",
    "    layers.Dense(16, activation='elu', input_shape=(FEATURES,)),\n",
    "    layers.Dense(1)\n",
    "])\n",
    "size_histories = {}\n",
    "size_histories['Tiny'] = compile_and_fit(tiny_model, 'sizes/Tiny')"
   ]
  },
  {
   "cell_type": "code",
   "execution_count": 21,
   "id": "a19d5ac5",
   "metadata": {},
   "outputs": [
    {
     "data": {
      "text/plain": [
       "(0.5, 0.7)"
      ]
     },
     "execution_count": 21,
     "metadata": {},
     "output_type": "execute_result"
    },
    {
     "data": {
      "image/png": "[encoded data removed]",
      "text/plain": [
       "<Figure size 432x288 with 1 Axes>"
      ]
     },
     "metadata": {
      "needs_background": "light"
     },
     "output_type": "display_data"
    }
   ],
   "source": [
    "plotter = tfdocs.plots.HistoryPlotter(metric = 'binary_crossentropy', smoothing_std=10)\n",
    "plotter.plot(size_histories)\n",
    "plt.ylim([0.5, 0.7])"
   ]
  },
  {
   "cell_type": "markdown",
   "id": "272c8cb8",
   "metadata": {},
   "source": [
    "# small model "
   ]
  },
  {
   "cell_type": "code",
   "execution_count": 22,
   "id": "84cb2300",
   "metadata": {},
   "outputs": [
    {
     "name": "stdout",
     "output_type": "stream",
     "text": [
      "Model: \"sequential_1\"\n",
      "_________________________________________________________________\n",
      "Layer (type)                 Output Shape              Param #   \n",
      "=================================================================\n",
      "dense_2 (Dense)              (None, 16)                464       \n",
      "_________________________________________________________________\n",
      "dense_3 (Dense)              (None, 16)                272       \n",
      "_________________________________________________________________\n",
      "dense_4 (Dense)              (None, 1)                 17        \n",
      "_________________________________________________________________\n",
      "=================================================================\n",
      "Total params: 753\n",
      "Trainable params: 753\n",
      "Non-trainable params: 0\n",
      "_________________________________________________________________\n"
     ]
    },
    {
     "name": "stderr",
     "output_type": "stream",
     "text": [
      "2021-09-10 11:25:02.282511: I tensorflow/core/profiler/lib/profiler_session.cc:110] Profiler session initializing.\n",
      "2021-09-10 11:25:02.282553: I tensorflow/core/profiler/lib/profiler_session.cc:125] Profiler session started.\n",
      "2021-09-10 11:25:02.286386: E tensorflow/core/profiler/internal/gpu/cupti_tracer.cc:1681] function cupti_interface_->Subscribe( &subscriber_, (CUpti_CallbackFunc)ApiCallback, this)failed with error CUPTI could not be loaded or symbol could not be found.\n",
      "2021-09-10 11:25:02.286589: I tensorflow/core/profiler/lib/profiler_session.cc:143] Profiler session tear down.\n",
      "2021-09-10 11:25:02.286619: E tensorflow/core/profiler/internal/gpu/cupti_tracer.cc:1773] function cupti_interface_->Finalize()failed with error CUPTI could not be loaded or symbol could not be found.\n"
     ]
    },
    {
     "name": "stdout",
     "output_type": "stream",
     "text": [
      "WARNING:tensorflow:Callback method `on_train_batch_end` is slow compared to the batch time (batch time: 0.0030s vs `on_train_batch_end` time: 0.0075s). Check your callbacks.\n"
     ]
    },
    {
     "name": "stderr",
     "output_type": "stream",
     "text": [
      "2021-09-10 11:25:02.581652: I tensorflow/core/profiler/lib/profiler_session.cc:110] Profiler session initializing.\n",
      "2021-09-10 11:25:02.581677: I tensorflow/core/profiler/lib/profiler_session.cc:125] Profiler session started.\n",
      "2021-09-10 11:25:02.581703: E tensorflow/core/profiler/internal/gpu/cupti_tracer.cc:1681] function cupti_interface_->Subscribe( &subscriber_, (CUpti_CallbackFunc)ApiCallback, this)failed with error CUPTI could not be loaded or symbol could not be found.\n",
      "2021-09-10 11:25:02.603816: I tensorflow/core/profiler/lib/profiler_session.cc:67] Profiler session collecting data.\n",
      "2021-09-10 11:25:02.603912: E tensorflow/core/profiler/internal/gpu/cupti_tracer.cc:1773] function cupti_interface_->Finalize()failed with error CUPTI could not be loaded or symbol could not be found.\n",
      "2021-09-10 11:25:02.606124: I tensorflow/core/profiler/internal/gpu/cupti_collector.cc:526]  GpuTracer has collected 0 callback api events and 0 activity events. \n",
      "2021-09-10 11:25:02.608480: I tensorflow/core/profiler/lib/profiler_session.cc:143] Profiler session tear down.\n",
      "2021-09-10 11:25:02.613579: I tensorflow/core/profiler/rpc/client/save_profile.cc:136] Creating directory: /tmp/tmpz_5wn94q/tensorboard_logs/sizes/Small/plugins/profile/2021_09_10_11_25_02\n",
      "\n",
      "2021-09-10 11:25:02.617539: I tensorflow/core/profiler/rpc/client/save_profile.cc:142] Dumped gzipped tool data for trace.json.gz to /tmp/tmpz_5wn94q/tensorboard_logs/sizes/Small/plugins/profile/2021_09_10_11_25_02/Developer.trace.json.gz\n",
      "2021-09-10 11:25:02.621249: I tensorflow/core/profiler/rpc/client/save_profile.cc:136] Creating directory: /tmp/tmpz_5wn94q/tensorboard_logs/sizes/Small/plugins/profile/2021_09_10_11_25_02\n",
      "\n",
      "2021-09-10 11:25:02.621739: I tensorflow/core/profiler/rpc/client/save_profile.cc:142] Dumped gzipped tool data for memory_profile.json.gz to /tmp/tmpz_5wn94q/tensorboard_logs/sizes/Small/plugins/profile/2021_09_10_11_25_02/Developer.memory_profile.json.gz\n",
      "2021-09-10 11:25:02.621878: I tensorflow/core/profiler/rpc/client/capture_profile.cc:251] Creating directory: /tmp/tmpz_5wn94q/tensorboard_logs/sizes/Small/plugins/profile/2021_09_10_11_25_02\n",
      "Dumped tool data for xplane.pb to /tmp/tmpz_5wn94q/tensorboard_logs/sizes/Small/plugins/profile/2021_09_10_11_25_02/Developer.xplane.pb\n",
      "Dumped tool data for overview_page.pb to /tmp/tmpz_5wn94q/tensorboard_logs/sizes/Small/plugins/profile/2021_09_10_11_25_02/Developer.overview_page.pb\n",
      "Dumped tool data for input_pipeline.pb to /tmp/tmpz_5wn94q/tensorboard_logs/sizes/Small/plugins/profile/2021_09_10_11_25_02/Developer.input_pipeline.pb\n",
      "Dumped tool data for tensorflow_stats.pb to /tmp/tmpz_5wn94q/tensorboard_logs/sizes/Small/plugins/profile/2021_09_10_11_25_02/Developer.tensorflow_stats.pb\n",
      "Dumped tool data for kernel_stats.pb to /tmp/tmpz_5wn94q/tensorboard_logs/sizes/Small/plugins/profile/2021_09_10_11_25_02/Developer.kernel_stats.pb\n",
      "\n"
     ]
    },
    {
     "name": "stdout",
     "output_type": "stream",
     "text": [
      "\n",
      "Epoch: 0, accuracy:0.4651,  binary_crossentropy:0.7677,  loss:0.7677,  val_accuracy:0.4580,  val_binary_crossentropy:0.7237,  val_loss:0.7237,  \n",
      "....................................................................................................\n",
      "Epoch: 100, accuracy:0.6510,  binary_crossentropy:0.5976,  loss:0.5976,  val_accuracy:0.6310,  val_binary_crossentropy:0.5981,  val_loss:0.5981,  \n",
      "....................................................................................................\n",
      "Epoch: 200, accuracy:0.6766,  binary_crossentropy:0.5819,  loss:0.5819,  val_accuracy:0.6450,  val_binary_crossentropy:0.5968,  val_loss:0.5968,  \n",
      "....................................................................................................\n",
      "Epoch: 300, accuracy:0.6897,  binary_crossentropy:0.5711,  loss:0.5711,  val_accuracy:0.6710,  val_binary_crossentropy:0.5889,  val_loss:0.5889,  \n",
      "....................................................................................................\n",
      "Epoch: 400, accuracy:0.6923,  binary_crossentropy:0.5649,  loss:0.5649,  val_accuracy:0.6620,  val_binary_crossentropy:0.5921,  val_loss:0.5921,  \n",
      "....................................................................................................\n",
      "Epoch: 500, accuracy:0.6942,  binary_crossentropy:0.5589,  loss:0.5589,  val_accuracy:0.6800,  val_binary_crossentropy:0.5884,  val_loss:0.5884,  \n",
      "....................................................................................................\n",
      "Epoch: 600, accuracy:0.7003,  binary_crossentropy:0.5543,  loss:0.5543,  val_accuracy:0.6560,  val_binary_crossentropy:0.5953,  val_loss:0.5953,  \n",
      "........................................................"
     ]
    }
   ],
   "source": [
    "small_model = tf.keras.Sequential([\n",
    "    # `input_shape` is only required here so that `.summary` works.\n",
    "    layers.Dense(16, activation='elu', input_shape=(FEATURES,)),\n",
    "    layers.Dense(16, activation='elu'),\n",
    "    layers.Dense(1)\n",
    "])\n",
    "size_histories['Small'] = compile_and_fit(small_model, 'sizes/Small')"
   ]
  },
  {
   "cell_type": "markdown",
   "id": "f80b7117",
   "metadata": {},
   "source": [
    "# medium model "
   ]
  },
  {
   "cell_type": "code",
   "execution_count": 23,
   "id": "1b7a6312",
   "metadata": {},
   "outputs": [
    {
     "name": "stdout",
     "output_type": "stream",
     "text": [
      "Model: \"sequential_2\"\n",
      "_________________________________________________________________\n",
      "Layer (type)                 Output Shape              Param #   \n",
      "=================================================================\n",
      "dense_5 (Dense)              (None, 64)                1856      \n",
      "_________________________________________________________________\n",
      "dense_6 (Dense)              (None, 64)                4160      \n",
      "_________________________________________________________________\n",
      "dense_7 (Dense)              (None, 64)                4160      \n",
      "_________________________________________________________________\n",
      "dense_8 (Dense)              (None, 1)                 65        \n",
      "_________________________________________________________________\n",
      "=================================================================\n",
      "Total params: 10,241\n",
      "Trainable params: 10,241\n",
      "Non-trainable params: 0\n",
      "_________________________________________________________________\n"
     ]
    },
    {
     "name": "stderr",
     "output_type": "stream",
     "text": [
      "2021-09-10 11:26:45.970669: I tensorflow/core/profiler/lib/profiler_session.cc:110] Profiler session initializing.\n",
      "2021-09-10 11:26:45.970701: I tensorflow/core/profiler/lib/profiler_session.cc:125] Profiler session started.\n",
      "2021-09-10 11:26:45.972673: E tensorflow/core/profiler/internal/gpu/cupti_tracer.cc:1681] function cupti_interface_->Subscribe( &subscriber_, (CUpti_CallbackFunc)ApiCallback, this)failed with error CUPTI could not be loaded or symbol could not be found.\n",
      "2021-09-10 11:26:45.972926: I tensorflow/core/profiler/lib/profiler_session.cc:143] Profiler session tear down.\n",
      "2021-09-10 11:26:45.972969: E tensorflow/core/profiler/internal/gpu/cupti_tracer.cc:1773] function cupti_interface_->Finalize()failed with error CUPTI could not be loaded or symbol could not be found.\n"
     ]
    },
    {
     "name": "stdout",
     "output_type": "stream",
     "text": [
      "WARNING:tensorflow:Callback method `on_train_batch_end` is slow compared to the batch time (batch time: 0.0034s vs `on_train_batch_end` time: 0.0081s). Check your callbacks.\n"
     ]
    },
    {
     "name": "stderr",
     "output_type": "stream",
     "text": [
      "2021-09-10 11:26:46.343626: I tensorflow/core/profiler/lib/profiler_session.cc:110] Profiler session initializing.\n",
      "2021-09-10 11:26:46.343651: I tensorflow/core/profiler/lib/profiler_session.cc:125] Profiler session started.\n",
      "2021-09-10 11:26:46.343677: E tensorflow/core/profiler/internal/gpu/cupti_tracer.cc:1681] function cupti_interface_->Subscribe( &subscriber_, (CUpti_CallbackFunc)ApiCallback, this)failed with error CUPTI could not be loaded or symbol could not be found.\n",
      "2021-09-10 11:26:46.367189: I tensorflow/core/profiler/lib/profiler_session.cc:67] Profiler session collecting data.\n",
      "2021-09-10 11:26:46.367289: E tensorflow/core/profiler/internal/gpu/cupti_tracer.cc:1773] function cupti_interface_->Finalize()failed with error CUPTI could not be loaded or symbol could not be found.\n",
      "2021-09-10 11:26:46.369601: I tensorflow/core/profiler/internal/gpu/cupti_collector.cc:526]  GpuTracer has collected 0 callback api events and 0 activity events. \n",
      "2021-09-10 11:26:46.372001: I tensorflow/core/profiler/lib/profiler_session.cc:143] Profiler session tear down.\n",
      "2021-09-10 11:26:46.377092: I tensorflow/core/profiler/rpc/client/save_profile.cc:136] Creating directory: /tmp/tmpz_5wn94q/tensorboard_logs/sizes/Medium/plugins/profile/2021_09_10_11_26_46\n",
      "\n",
      "2021-09-10 11:26:46.381045: I tensorflow/core/profiler/rpc/client/save_profile.cc:142] Dumped gzipped tool data for trace.json.gz to /tmp/tmpz_5wn94q/tensorboard_logs/sizes/Medium/plugins/profile/2021_09_10_11_26_46/Developer.trace.json.gz\n",
      "2021-09-10 11:26:46.384879: I tensorflow/core/profiler/rpc/client/save_profile.cc:136] Creating directory: /tmp/tmpz_5wn94q/tensorboard_logs/sizes/Medium/plugins/profile/2021_09_10_11_26_46\n",
      "\n",
      "2021-09-10 11:26:46.385407: I tensorflow/core/profiler/rpc/client/save_profile.cc:142] Dumped gzipped tool data for memory_profile.json.gz to /tmp/tmpz_5wn94q/tensorboard_logs/sizes/Medium/plugins/profile/2021_09_10_11_26_46/Developer.memory_profile.json.gz\n",
      "2021-09-10 11:26:46.385545: I tensorflow/core/profiler/rpc/client/capture_profile.cc:251] Creating directory: /tmp/tmpz_5wn94q/tensorboard_logs/sizes/Medium/plugins/profile/2021_09_10_11_26_46\n",
      "Dumped tool data for xplane.pb to /tmp/tmpz_5wn94q/tensorboard_logs/sizes/Medium/plugins/profile/2021_09_10_11_26_46/Developer.xplane.pb\n",
      "Dumped tool data for overview_page.pb to /tmp/tmpz_5wn94q/tensorboard_logs/sizes/Medium/plugins/profile/2021_09_10_11_26_46/Developer.overview_page.pb\n",
      "Dumped tool data for input_pipeline.pb to /tmp/tmpz_5wn94q/tensorboard_logs/sizes/Medium/plugins/profile/2021_09_10_11_26_46/Developer.input_pipeline.pb\n",
      "Dumped tool data for tensorflow_stats.pb to /tmp/tmpz_5wn94q/tensorboard_logs/sizes/Medium/plugins/profile/2021_09_10_11_26_46/Developer.tensorflow_stats.pb\n",
      "Dumped tool data for kernel_stats.pb to /tmp/tmpz_5wn94q/tensorboard_logs/sizes/Medium/plugins/profile/2021_09_10_11_26_46/Developer.kernel_stats.pb\n",
      "\n"
     ]
    },
    {
     "name": "stdout",
     "output_type": "stream",
     "text": [
      "\n",
      "Epoch: 0, accuracy:0.4815,  binary_crossentropy:0.7042,  loss:0.7042,  val_accuracy:0.4740,  val_binary_crossentropy:0.6853,  val_loss:0.6853,  \n",
      "....................................................................................................\n",
      "Epoch: 100, accuracy:0.7162,  binary_crossentropy:0.5282,  loss:0.5282,  val_accuracy:0.6540,  val_binary_crossentropy:0.6020,  val_loss:0.6020,  \n",
      "....................................................................................................\n",
      "Epoch: 200, accuracy:0.7939,  binary_crossentropy:0.4195,  loss:0.4195,  val_accuracy:0.6640,  val_binary_crossentropy:0.6687,  val_loss:0.6687,  \n",
      ".........................................................................................."
     ]
    }
   ],
   "source": [
    "medium_model = tf.keras.Sequential([\n",
    "    layers.Dense(64, activation='elu', input_shape=(FEATURES,)),\n",
    "    layers.Dense(64, activation='elu'),\n",
    "    layers.Dense(64, activation='elu'),\n",
    "    layers.Dense(1)\n",
    "])\n",
    "size_histories['Medium']  = compile_and_fit(medium_model, \"sizes/Medium\")"
   ]
  },
  {
   "cell_type": "markdown",
   "id": "447e1201",
   "metadata": {},
   "source": [
    "# large model "
   ]
  },
  {
   "cell_type": "code",
   "execution_count": 24,
   "id": "0bfb3ec2",
   "metadata": {},
   "outputs": [
    {
     "name": "stdout",
     "output_type": "stream",
     "text": [
      "Model: \"sequential_3\"\n",
      "_________________________________________________________________\n",
      "Layer (type)                 Output Shape              Param #   \n",
      "=================================================================\n",
      "dense_9 (Dense)              (None, 512)               14848     \n",
      "_________________________________________________________________\n",
      "dense_10 (Dense)             (None, 512)               262656    \n",
      "_________________________________________________________________\n",
      "dense_11 (Dense)             (None, 512)               262656    \n",
      "_________________________________________________________________\n",
      "dense_12 (Dense)             (None, 512)               262656    \n",
      "_________________________________________________________________\n",
      "dense_13 (Dense)             (None, 1)                 513       \n",
      "_________________________________________________________________\n",
      "=================================================================\n",
      "Total params: 803,329\n",
      "Trainable params: 803,329\n",
      "Non-trainable params: 0\n",
      "_________________________________________________________________\n"
     ]
    },
    {
     "name": "stderr",
     "output_type": "stream",
     "text": [
      "2021-09-10 11:27:33.768386: I tensorflow/core/profiler/lib/profiler_session.cc:110] Profiler session initializing.\n",
      "2021-09-10 11:27:33.768420: I tensorflow/core/profiler/lib/profiler_session.cc:125] Profiler session started.\n",
      "2021-09-10 11:27:33.771274: E tensorflow/core/profiler/internal/gpu/cupti_tracer.cc:1681] function cupti_interface_->Subscribe( &subscriber_, (CUpti_CallbackFunc)ApiCallback, this)failed with error CUPTI could not be loaded or symbol could not be found.\n",
      "2021-09-10 11:27:33.771375: I tensorflow/core/profiler/lib/profiler_session.cc:143] Profiler session tear down.\n",
      "2021-09-10 11:27:33.771422: E tensorflow/core/profiler/internal/gpu/cupti_tracer.cc:1773] function cupti_interface_->Finalize()failed with error CUPTI could not be loaded or symbol could not be found.\n"
     ]
    },
    {
     "name": "stdout",
     "output_type": "stream",
     "text": [
      "WARNING:tensorflow:Callback method `on_train_batch_end` is slow compared to the batch time (batch time: 0.0036s vs `on_train_batch_end` time: 0.0081s). Check your callbacks.\n"
     ]
    },
    {
     "name": "stderr",
     "output_type": "stream",
     "text": [
      "2021-09-10 11:27:34.140250: I tensorflow/core/profiler/lib/profiler_session.cc:110] Profiler session initializing.\n",
      "2021-09-10 11:27:34.140275: I tensorflow/core/profiler/lib/profiler_session.cc:125] Profiler session started.\n",
      "2021-09-10 11:27:34.140317: E tensorflow/core/profiler/internal/gpu/cupti_tracer.cc:1681] function cupti_interface_->Subscribe( &subscriber_, (CUpti_CallbackFunc)ApiCallback, this)failed with error CUPTI could not be loaded or symbol could not be found.\n",
      "2021-09-10 11:27:34.165630: I tensorflow/core/profiler/lib/profiler_session.cc:67] Profiler session collecting data.\n",
      "2021-09-10 11:27:34.165734: E tensorflow/core/profiler/internal/gpu/cupti_tracer.cc:1773] function cupti_interface_->Finalize()failed with error CUPTI could not be loaded or symbol could not be found.\n",
      "2021-09-10 11:27:34.168153: I tensorflow/core/profiler/internal/gpu/cupti_collector.cc:526]  GpuTracer has collected 0 callback api events and 0 activity events. \n",
      "2021-09-10 11:27:34.170534: I tensorflow/core/profiler/lib/profiler_session.cc:143] Profiler session tear down.\n",
      "2021-09-10 11:27:34.175633: I tensorflow/core/profiler/rpc/client/save_profile.cc:136] Creating directory: /tmp/tmpz_5wn94q/tensorboard_logs/sizes/large/plugins/profile/2021_09_10_11_27_34\n",
      "\n",
      "2021-09-10 11:27:34.179725: I tensorflow/core/profiler/rpc/client/save_profile.cc:142] Dumped gzipped tool data for trace.json.gz to /tmp/tmpz_5wn94q/tensorboard_logs/sizes/large/plugins/profile/2021_09_10_11_27_34/Developer.trace.json.gz\n",
      "2021-09-10 11:27:34.183649: I tensorflow/core/profiler/rpc/client/save_profile.cc:136] Creating directory: /tmp/tmpz_5wn94q/tensorboard_logs/sizes/large/plugins/profile/2021_09_10_11_27_34\n",
      "\n",
      "2021-09-10 11:27:34.184165: I tensorflow/core/profiler/rpc/client/save_profile.cc:142] Dumped gzipped tool data for memory_profile.json.gz to /tmp/tmpz_5wn94q/tensorboard_logs/sizes/large/plugins/profile/2021_09_10_11_27_34/Developer.memory_profile.json.gz\n",
      "2021-09-10 11:27:34.184305: I tensorflow/core/profiler/rpc/client/capture_profile.cc:251] Creating directory: /tmp/tmpz_5wn94q/tensorboard_logs/sizes/large/plugins/profile/2021_09_10_11_27_34\n",
      "Dumped tool data for xplane.pb to /tmp/tmpz_5wn94q/tensorboard_logs/sizes/large/plugins/profile/2021_09_10_11_27_34/Developer.xplane.pb\n",
      "Dumped tool data for overview_page.pb to /tmp/tmpz_5wn94q/tensorboard_logs/sizes/large/plugins/profile/2021_09_10_11_27_34/Developer.overview_page.pb\n",
      "Dumped tool data for input_pipeline.pb to /tmp/tmpz_5wn94q/tensorboard_logs/sizes/large/plugins/profile/2021_09_10_11_27_34/Developer.input_pipeline.pb\n",
      "Dumped tool data for tensorflow_stats.pb to /tmp/tmpz_5wn94q/tensorboard_logs/sizes/large/plugins/profile/2021_09_10_11_27_34/Developer.tensorflow_stats.pb\n",
      "Dumped tool data for kernel_stats.pb to /tmp/tmpz_5wn94q/tensorboard_logs/sizes/large/plugins/profile/2021_09_10_11_27_34/Developer.kernel_stats.pb\n",
      "\n"
     ]
    },
    {
     "name": "stdout",
     "output_type": "stream",
     "text": [
      "\n",
      "Epoch: 0, accuracy:0.5085,  binary_crossentropy:0.8258,  loss:0.8258,  val_accuracy:0.4830,  val_binary_crossentropy:0.6857,  val_loss:0.6857,  \n",
      "....................................................................................................\n",
      "Epoch: 100, accuracy:1.0000,  binary_crossentropy:0.0023,  loss:0.0023,  val_accuracy:0.6560,  val_binary_crossentropy:1.7952,  val_loss:1.7952,  \n",
      "....................................................................................................\n",
      "Epoch: 200, accuracy:1.0000,  binary_crossentropy:0.0001,  loss:0.0001,  val_accuracy:0.6650,  val_binary_crossentropy:2.4500,  val_loss:2.4500,  \n",
      "................................"
     ]
    }
   ],
   "source": [
    "large_model = tf.keras.Sequential([\n",
    "    layers.Dense(512, activation='elu', input_shape=(FEATURES,)),\n",
    "    layers.Dense(512, activation='elu'),\n",
    "    layers.Dense(512, activation='elu'),\n",
    "    layers.Dense(512, activation='elu'),\n",
    "    layers.Dense(1)\n",
    "])\n",
    "size_histories['large'] = compile_and_fit(large_model, \"sizes/large\")"
   ]
  },
  {
   "cell_type": "markdown",
   "id": "8f585574",
   "metadata": {},
   "source": [
    "# plot the training and validation losses"
   ]
  },
  {
   "cell_type": "code",
   "execution_count": 25,
   "id": "f00d81b5",
   "metadata": {},
   "outputs": [
    {
     "data": {
      "text/plain": [
       "Text(0.5, 0, 'Epochs [Log Scale]')"
      ]
     },
     "execution_count": 25,
     "metadata": {},
     "output_type": "execute_result"
    },
    {
     "data": {
      "image/png": "[encoded data removed]",
      "text/plain": [
       "<Figure size 432x288 with 1 Axes>"
      ]
     },
     "metadata": {
      "needs_background": "light"
     },
     "output_type": "display_data"
    }
   ],
   "source": [
    "plotter.plot(size_histories)\n",
    "a = plt.xscale('log')\n",
    "plt.xlim([5, max(plt.xlim())])\n",
    "plt.ylim([0.5, 0.7])\n",
    "plt.xlabel(\"Epochs [Log Scale]\")"
   ]
  },
  {
   "cell_type": "markdown",
   "id": "5a9d18e9",
   "metadata": {},
   "source": [
    "# view in tesorboard"
   ]
  },
  {
   "cell_type": "code",
   "execution_count": 32,
   "id": "6700ef63",
   "metadata": {},
   "outputs": [
    {
     "name": "stdout",
     "output_type": "stream",
     "text": [
      "The tensorboard extension is already loaded. To reload it, use:\n",
      "  %reload_ext tensorboard\n"
     ]
    },
    {
     "data": {
      "text/plain": [
       "Reusing TensorBoard on port 6006 (pid 254735), started 0:01:00 ago. (Use '!kill 254735' to kill it.)"
      ]
     },
     "metadata": {},
     "output_type": "display_data"
    },
    {
     "data": {
      "text/html": [
       "\n",
       "      <iframe id=\"tensorboard-frame-7c032ddc155c9536\" width=\"100%\" height=\"800\" frameborder=\"0\">\n",
       "      </iframe>\n",
       "      <script>\n",
       "        (function() {\n",
       "          const frame = document.getElementById(\"tensorboard-frame-7c032ddc155c9536\");\n",
       "          const url = new URL(\"/\", window.location);\n",
       "          const port = 6006;\n",
       "          if (port) {\n",
       "            url.port = port;\n",
       "          }\n",
       "          frame.src = url;\n",
       "        })();\n",
       "      </script>\n",
       "    "
      ],
      "text/plain": [
       "<IPython.core.display.HTML object>"
      ]
     },
     "metadata": {},
     "output_type": "display_data"
    }
   ],
   "source": [
    "# Load the TensorBoard notebook extension\n",
    "%load_ext tensorboard\n",
    "\n",
    "# Open an embedded TensorBoard viewer\n",
    "%tensorboard --logdir {logdir}/sizes --load_fast=false"
   ]
  },
  {
   "cell_type": "code",
   "execution_count": 31,
   "id": "85ae89b5",
   "metadata": {},
   "outputs": [
    {
     "name": "stdout",
     "output_type": "stream",
     "text": [
      "/tmp/tmpz_5wn94q/tensorboard_logs\n"
     ]
    }
   ],
   "source": [
    "print(logdir)"
   ]
  },
  {
   "cell_type": "markdown",
   "id": "126a1227",
   "metadata": {},
   "source": [
    "# Strategies to prevent overfitting"
   ]
  },
  {
   "cell_type": "code",
   "execution_count": 33,
   "id": "0fbb0470",
   "metadata": {},
   "outputs": [
    {
     "data": {
      "text/plain": [
       "PosixPath('/tmp/tmpz_5wn94q/tensorboard_logs/regularizers/Tiny')"
      ]
     },
     "execution_count": 33,
     "metadata": {},
     "output_type": "execute_result"
    }
   ],
   "source": [
    "shutil.rmtree(logdir/'regularizers/Tiny', ignore_errors=True)\n",
    "shutil.copytree(logdir/'sizes/Tiny', logdir/'regularizers/Tiny')"
   ]
  },
  {
   "cell_type": "code",
   "execution_count": 34,
   "id": "5b24d332",
   "metadata": {},
   "outputs": [],
   "source": [
    "regularizer_histories = {}\n",
    "regularizer_histories['Tiny'] = size_histories['Tiny']"
   ]
  },
  {
   "cell_type": "markdown",
   "id": "80712116",
   "metadata": {},
   "source": [
    "### L2 weight regularization"
   ]
  },
  {
   "cell_type": "code",
   "execution_count": 35,
   "id": "239c3a45",
   "metadata": {},
   "outputs": [
    {
     "name": "stdout",
     "output_type": "stream",
     "text": [
      "Model: \"sequential_4\"\n",
      "_________________________________________________________________\n",
      "Layer (type)                 Output Shape              Param #   \n",
      "=================================================================\n",
      "dense_14 (Dense)             (None, 512)               14848     \n",
      "_________________________________________________________________\n",
      "dense_15 (Dense)             (None, 512)               262656    \n",
      "_________________________________________________________________\n",
      "dense_16 (Dense)             (None, 512)               262656    \n",
      "_________________________________________________________________\n",
      "dense_17 (Dense)             (None, 512)               262656    \n",
      "_________________________________________________________________\n",
      "dense_18 (Dense)             (None, 1)                 513       \n",
      "_________________________________________________________________\n",
      "=================================================================\n",
      "Total params: 803,329\n",
      "Trainable params: 803,329\n",
      "Non-trainable params: 0\n",
      "_________________________________________________________________\n"
     ]
    },
    {
     "name": "stderr",
     "output_type": "stream",
     "text": [
      "2021-09-10 11:46:08.855328: I tensorflow/core/profiler/lib/profiler_session.cc:110] Profiler session initializing.\n",
      "2021-09-10 11:46:08.855362: I tensorflow/core/profiler/lib/profiler_session.cc:125] Profiler session started.\n",
      "2021-09-10 11:46:08.857768: E tensorflow/core/profiler/internal/gpu/cupti_tracer.cc:1681] function cupti_interface_->Subscribe( &subscriber_, (CUpti_CallbackFunc)ApiCallback, this)failed with error CUPTI could not be loaded or symbol could not be found.\n",
      "2021-09-10 11:46:08.857788: I tensorflow/core/profiler/lib/profiler_session.cc:143] Profiler session tear down.\n",
      "2021-09-10 11:46:08.857804: E tensorflow/core/profiler/internal/gpu/cupti_tracer.cc:1773] function cupti_interface_->Finalize()failed with error CUPTI could not be loaded or symbol could not be found.\n"
     ]
    },
    {
     "name": "stdout",
     "output_type": "stream",
     "text": [
      "WARNING:tensorflow:Callback method `on_train_batch_end` is slow compared to the batch time (batch time: 0.0040s vs `on_train_batch_end` time: 0.0126s). Check your callbacks.\n"
     ]
    },
    {
     "name": "stderr",
     "output_type": "stream",
     "text": [
      "2021-09-10 11:46:09.260137: I tensorflow/core/profiler/lib/profiler_session.cc:110] Profiler session initializing.\n",
      "2021-09-10 11:46:09.260172: I tensorflow/core/profiler/lib/profiler_session.cc:125] Profiler session started.\n",
      "2021-09-10 11:46:09.260208: E tensorflow/core/profiler/internal/gpu/cupti_tracer.cc:1681] function cupti_interface_->Subscribe( &subscriber_, (CUpti_CallbackFunc)ApiCallback, this)failed with error CUPTI could not be loaded or symbol could not be found.\n",
      "2021-09-10 11:46:09.298405: I tensorflow/core/profiler/lib/profiler_session.cc:67] Profiler session collecting data.\n",
      "2021-09-10 11:46:09.298524: E tensorflow/core/profiler/internal/gpu/cupti_tracer.cc:1773] function cupti_interface_->Finalize()failed with error CUPTI could not be loaded or symbol could not be found.\n",
      "2021-09-10 11:46:09.300975: I tensorflow/core/profiler/internal/gpu/cupti_collector.cc:526]  GpuTracer has collected 0 callback api events and 0 activity events. \n",
      "2021-09-10 11:46:09.303460: I tensorflow/core/profiler/lib/profiler_session.cc:143] Profiler session tear down.\n",
      "2021-09-10 11:46:09.308495: I tensorflow/core/profiler/rpc/client/save_profile.cc:136] Creating directory: /tmp/tmpz_5wn94q/tensorboard_logs/regularizers/l2/plugins/profile/2021_09_10_11_46_09\n",
      "\n",
      "2021-09-10 11:46:09.312439: I tensorflow/core/profiler/rpc/client/save_profile.cc:142] Dumped gzipped tool data for trace.json.gz to /tmp/tmpz_5wn94q/tensorboard_logs/regularizers/l2/plugins/profile/2021_09_10_11_46_09/Developer.trace.json.gz\n",
      "2021-09-10 11:46:09.317011: I tensorflow/core/profiler/rpc/client/save_profile.cc:136] Creating directory: /tmp/tmpz_5wn94q/tensorboard_logs/regularizers/l2/plugins/profile/2021_09_10_11_46_09\n",
      "\n",
      "2021-09-10 11:46:09.317753: I tensorflow/core/profiler/rpc/client/save_profile.cc:142] Dumped gzipped tool data for memory_profile.json.gz to /tmp/tmpz_5wn94q/tensorboard_logs/regularizers/l2/plugins/profile/2021_09_10_11_46_09/Developer.memory_profile.json.gz\n",
      "2021-09-10 11:46:09.317900: I tensorflow/core/profiler/rpc/client/capture_profile.cc:251] Creating directory: /tmp/tmpz_5wn94q/tensorboard_logs/regularizers/l2/plugins/profile/2021_09_10_11_46_09\n",
      "Dumped tool data for xplane.pb to /tmp/tmpz_5wn94q/tensorboard_logs/regularizers/l2/plugins/profile/2021_09_10_11_46_09/Developer.xplane.pb\n",
      "Dumped tool data for overview_page.pb to /tmp/tmpz_5wn94q/tensorboard_logs/regularizers/l2/plugins/profile/2021_09_10_11_46_09/Developer.overview_page.pb\n",
      "Dumped tool data for input_pipeline.pb to /tmp/tmpz_5wn94q/tensorboard_logs/regularizers/l2/plugins/profile/2021_09_10_11_46_09/Developer.input_pipeline.pb\n",
      "Dumped tool data for tensorflow_stats.pb to /tmp/tmpz_5wn94q/tensorboard_logs/regularizers/l2/plugins/profile/2021_09_10_11_46_09/Developer.tensorflow_stats.pb\n",
      "Dumped tool data for kernel_stats.pb to /tmp/tmpz_5wn94q/tensorboard_logs/regularizers/l2/plugins/profile/2021_09_10_11_46_09/Developer.kernel_stats.pb\n",
      "\n"
     ]
    },
    {
     "name": "stdout",
     "output_type": "stream",
     "text": [
      "\n",
      "Epoch: 0, accuracy:0.5059,  binary_crossentropy:0.8413,  loss:2.3635,  val_accuracy:0.4710,  val_binary_crossentropy:0.6885,  val_loss:2.1390,  \n",
      "....................................................................................................\n",
      "Epoch: 100, accuracy:0.6641,  binary_crossentropy:0.5924,  loss:0.6171,  val_accuracy:0.6330,  val_binary_crossentropy:0.5834,  val_loss:0.6080,  \n",
      "....................................................................................................\n",
      "Epoch: 200, accuracy:0.6806,  binary_crossentropy:0.5795,  loss:0.6025,  val_accuracy:0.6750,  val_binary_crossentropy:0.5755,  val_loss:0.5985,  \n",
      "....................................................................................................\n",
      "Epoch: 300, accuracy:0.6782,  binary_crossentropy:0.5747,  loss:0.5977,  val_accuracy:0.6650,  val_binary_crossentropy:0.5795,  val_loss:0.6029,  \n",
      "....................................................................................................\n",
      "Epoch: 400, accuracy:0.6910,  binary_crossentropy:0.5623,  loss:0.5879,  val_accuracy:0.6900,  val_binary_crossentropy:0.5743,  val_loss:0.6000,  \n",
      "................................................................................................."
     ]
    }
   ],
   "source": [
    "l2_model = tf.keras.Sequential([\n",
    "    layers.Dense(512, activation='elu',\n",
    "                 kernel_regularizer=regularizers.l2(0.001),\n",
    "                 input_shape=(FEATURES,)),\n",
    "    layers.Dense(512, activation='elu',\n",
    "                 kernel_regularizer=regularizers.l2(0.001)),\n",
    "    layers.Dense(512, activation='elu',\n",
    "                 kernel_regularizer=regularizers.l2(0.001)),\n",
    "    layers.Dense(512, activation='elu',\n",
    "                 kernel_regularizer=regularizers.l2(0.001)),\n",
    "    layers.Dense(1)\n",
    "])\n",
    "\n",
    "regularizer_histories['l2'] = compile_and_fit(l2_model, \"regularizers/l2\")"
   ]
  },
  {
   "cell_type": "code",
   "execution_count": 36,
   "id": "8dc46b8c",
   "metadata": {},
   "outputs": [
    {
     "data": {
      "text/plain": [
       "(0.5, 0.7)"
      ]
     },
     "execution_count": 36,
     "metadata": {},
     "output_type": "execute_result"
    },
    {
     "data": {
      "image/png": "[encoded data removed]",
      "text/plain": [
       "<Figure size 432x288 with 1 Axes>"
      ]
     },
     "metadata": {
      "needs_background": "light"
     },
     "output_type": "display_data"
    }
   ],
   "source": [
    "plotter.plot(regularizer_histories)\n",
    "plt.ylim([0.5, 0.7])"
   ]
  },
  {
   "cell_type": "markdown",
   "id": "7d0f9002",
   "metadata": {},
   "source": [
    "### drop out"
   ]
  },
  {
   "cell_type": "code",
   "execution_count": 37,
   "id": "e694b2d9",
   "metadata": {},
   "outputs": [
    {
     "name": "stdout",
     "output_type": "stream",
     "text": [
      "Model: \"sequential_5\"\n",
      "_________________________________________________________________\n",
      "Layer (type)                 Output Shape              Param #   \n",
      "=================================================================\n",
      "dense_19 (Dense)             (None, 512)               14848     \n",
      "_________________________________________________________________\n",
      "dropout (Dropout)            (None, 512)               0         \n",
      "_________________________________________________________________\n",
      "dense_20 (Dense)             (None, 512)               262656    \n",
      "_________________________________________________________________\n",
      "dropout_1 (Dropout)          (None, 512)               0         \n",
      "_________________________________________________________________\n",
      "dense_21 (Dense)             (None, 512)               262656    \n",
      "_________________________________________________________________\n",
      "dropout_2 (Dropout)          (None, 512)               0         \n",
      "_________________________________________________________________\n",
      "dense_22 (Dense)             (None, 512)               262656    \n",
      "_________________________________________________________________\n",
      "dropout_3 (Dropout)          (None, 512)               0         \n",
      "_________________________________________________________________\n",
      "dense_23 (Dense)             (None, 1)                 513       \n",
      "_________________________________________________________________\n",
      "=================================================================\n",
      "Total params: 803,329\n",
      "Trainable params: 803,329\n",
      "Non-trainable params: 0\n",
      "_________________________________________________________________\n"
     ]
    },
    {
     "name": "stderr",
     "output_type": "stream",
     "text": [
      "2021-09-10 11:50:09.757706: I tensorflow/core/profiler/lib/profiler_session.cc:110] Profiler session initializing.\n",
      "2021-09-10 11:50:09.757746: I tensorflow/core/profiler/lib/profiler_session.cc:125] Profiler session started.\n",
      "2021-09-10 11:50:09.757935: E tensorflow/core/profiler/internal/gpu/cupti_tracer.cc:1681] function cupti_interface_->Subscribe( &subscriber_, (CUpti_CallbackFunc)ApiCallback, this)failed with error CUPTI could not be loaded or symbol could not be found.\n",
      "2021-09-10 11:50:09.757998: I tensorflow/core/profiler/lib/profiler_session.cc:143] Profiler session tear down.\n",
      "2021-09-10 11:50:09.758087: E tensorflow/core/profiler/internal/gpu/cupti_tracer.cc:1773] function cupti_interface_->Finalize()failed with error CUPTI could not be loaded or symbol could not be found.\n"
     ]
    },
    {
     "name": "stdout",
     "output_type": "stream",
     "text": [
      "WARNING:tensorflow:Callback method `on_train_batch_end` is slow compared to the batch time (batch time: 0.0049s vs `on_train_batch_end` time: 0.0129s). Check your callbacks.\n"
     ]
    },
    {
     "name": "stderr",
     "output_type": "stream",
     "text": [
      "2021-09-10 11:50:10.145524: I tensorflow/core/profiler/lib/profiler_session.cc:110] Profiler session initializing.\n",
      "2021-09-10 11:50:10.145549: I tensorflow/core/profiler/lib/profiler_session.cc:125] Profiler session started.\n",
      "2021-09-10 11:50:10.145650: E tensorflow/core/profiler/internal/gpu/cupti_tracer.cc:1681] function cupti_interface_->Subscribe( &subscriber_, (CUpti_CallbackFunc)ApiCallback, this)failed with error CUPTI could not be loaded or symbol could not be found.\n",
      "2021-09-10 11:50:10.197275: I tensorflow/core/profiler/lib/profiler_session.cc:67] Profiler session collecting data.\n",
      "2021-09-10 11:50:10.197409: E tensorflow/core/profiler/internal/gpu/cupti_tracer.cc:1773] function cupti_interface_->Finalize()failed with error CUPTI could not be loaded or symbol could not be found.\n",
      "2021-09-10 11:50:10.199941: I tensorflow/core/profiler/internal/gpu/cupti_collector.cc:526]  GpuTracer has collected 0 callback api events and 0 activity events. \n",
      "2021-09-10 11:50:10.202382: I tensorflow/core/profiler/lib/profiler_session.cc:143] Profiler session tear down.\n",
      "2021-09-10 11:50:10.207629: I tensorflow/core/profiler/rpc/client/save_profile.cc:136] Creating directory: /tmp/tmpz_5wn94q/tensorboard_logs/regularizers/dropout/plugins/profile/2021_09_10_11_50_10\n",
      "\n",
      "2021-09-10 11:50:10.211662: I tensorflow/core/profiler/rpc/client/save_profile.cc:142] Dumped gzipped tool data for trace.json.gz to /tmp/tmpz_5wn94q/tensorboard_logs/regularizers/dropout/plugins/profile/2021_09_10_11_50_10/Developer.trace.json.gz\n",
      "2021-09-10 11:50:10.216368: I tensorflow/core/profiler/rpc/client/save_profile.cc:136] Creating directory: /tmp/tmpz_5wn94q/tensorboard_logs/regularizers/dropout/plugins/profile/2021_09_10_11_50_10\n",
      "\n",
      "2021-09-10 11:50:10.217091: I tensorflow/core/profiler/rpc/client/save_profile.cc:142] Dumped gzipped tool data for memory_profile.json.gz to /tmp/tmpz_5wn94q/tensorboard_logs/regularizers/dropout/plugins/profile/2021_09_10_11_50_10/Developer.memory_profile.json.gz\n",
      "2021-09-10 11:50:10.217233: I tensorflow/core/profiler/rpc/client/capture_profile.cc:251] Creating directory: /tmp/tmpz_5wn94q/tensorboard_logs/regularizers/dropout/plugins/profile/2021_09_10_11_50_10\n",
      "Dumped tool data for xplane.pb to /tmp/tmpz_5wn94q/tensorboard_logs/regularizers/dropout/plugins/profile/2021_09_10_11_50_10/Developer.xplane.pb\n",
      "Dumped tool data for overview_page.pb to /tmp/tmpz_5wn94q/tensorboard_logs/regularizers/dropout/plugins/profile/2021_09_10_11_50_10/Developer.overview_page.pb\n",
      "Dumped tool data for input_pipeline.pb to /tmp/tmpz_5wn94q/tensorboard_logs/regularizers/dropout/plugins/profile/2021_09_10_11_50_10/Developer.input_pipeline.pb\n",
      "Dumped tool data for tensorflow_stats.pb to /tmp/tmpz_5wn94q/tensorboard_logs/regularizers/dropout/plugins/profile/2021_09_10_11_50_10/Developer.tensorflow_stats.pb\n",
      "Dumped tool data for kernel_stats.pb to /tmp/tmpz_5wn94q/tensorboard_logs/regularizers/dropout/plugins/profile/2021_09_10_11_50_10/Developer.kernel_stats.pb\n",
      "\n"
     ]
    },
    {
     "name": "stdout",
     "output_type": "stream",
     "text": [
      "\n",
      "Epoch: 0, accuracy:0.5046,  binary_crossentropy:0.8008,  loss:0.8008,  val_accuracy:0.5190,  val_binary_crossentropy:0.6693,  val_loss:0.6693,  \n",
      "....................................................................................................\n",
      "Epoch: 100, accuracy:0.6565,  binary_crossentropy:0.5954,  loss:0.5954,  val_accuracy:0.6760,  val_binary_crossentropy:0.5773,  val_loss:0.5773,  \n",
      "....................................................................................................\n",
      "Epoch: 200, accuracy:0.6887,  binary_crossentropy:0.5532,  loss:0.5532,  val_accuracy:0.6880,  val_binary_crossentropy:0.5778,  val_loss:0.5778,  \n",
      "....................................................................................................\n",
      "Epoch: 300, accuracy:0.7217,  binary_crossentropy:0.5136,  loss:0.5136,  val_accuracy:0.6920,  val_binary_crossentropy:0.5879,  val_loss:0.5879,  \n",
      "......................................................................................."
     ]
    }
   ],
   "source": [
    "dropout_model = tf.keras.Sequential([\n",
    "    layers.Dense(512, activation='elu', input_shape=(FEATURES,)),\n",
    "    layers.Dropout(0.5),\n",
    "    layers.Dense(512, activation='elu'),\n",
    "    layers.Dropout(0.5),\n",
    "    layers.Dense(512, activation='elu'),\n",
    "    layers.Dropout(0.5),\n",
    "    layers.Dense(512, activation='elu'),\n",
    "    layers.Dropout(0.5),\n",
    "    layers.Dense(1)\n",
    "])\n",
    "\n",
    "regularizer_histories['dropout'] = compile_and_fit(dropout_model, \"regularizers/dropout\")"
   ]
  },
  {
   "cell_type": "code",
   "execution_count": 38,
   "id": "b2d97275",
   "metadata": {},
   "outputs": [
    {
     "data": {
      "text/plain": [
       "(0.5, 0.7)"
      ]
     },
     "execution_count": 38,
     "metadata": {},
     "output_type": "execute_result"
    },
    {
     "data": {
      "image/png": "[encoded data removed]",
      "text/plain": [
       "<Figure size 432x288 with 1 Axes>"
      ]
     },
     "metadata": {
      "needs_background": "light"
     },
     "output_type": "display_data"
    }
   ],
   "source": [
    "plotter.plot(regularizer_histories)\n",
    "plt.ylim([0.5, 0.7])"
   ]
  },
  {
   "cell_type": "markdown",
   "id": "6c64c07e",
   "metadata": {},
   "source": [
    "# L2 + dropout "
   ]
  },
  {
   "cell_type": "code",
   "execution_count": 39,
   "id": "54c31cc8",
   "metadata": {},
   "outputs": [
    {
     "name": "stdout",
     "output_type": "stream",
     "text": [
      "Model: \"sequential_6\"\n",
      "_________________________________________________________________\n",
      "Layer (type)                 Output Shape              Param #   \n",
      "=================================================================\n",
      "dense_24 (Dense)             (None, 512)               14848     \n",
      "_________________________________________________________________\n",
      "dropout_4 (Dropout)          (None, 512)               0         \n",
      "_________________________________________________________________\n",
      "dense_25 (Dense)             (None, 512)               262656    \n",
      "_________________________________________________________________\n",
      "dropout_5 (Dropout)          (None, 512)               0         \n",
      "_________________________________________________________________\n",
      "dense_26 (Dense)             (None, 512)               262656    \n",
      "_________________________________________________________________\n",
      "dropout_6 (Dropout)          (None, 512)               0         \n",
      "_________________________________________________________________\n",
      "dense_27 (Dense)             (None, 512)               262656    \n",
      "_________________________________________________________________\n",
      "dropout_7 (Dropout)          (None, 512)               0         \n",
      "_________________________________________________________________\n",
      "dense_28 (Dense)             (None, 1)                 513       \n",
      "_________________________________________________________________\n",
      "=================================================================\n",
      "Total params: 803,329\n",
      "Trainable params: 803,329\n",
      "Non-trainable params: 0\n",
      "_________________________________________________________________\n"
     ]
    },
    {
     "name": "stderr",
     "output_type": "stream",
     "text": [
      "2021-09-10 11:51:20.394271: I tensorflow/core/profiler/lib/profiler_session.cc:110] Profiler session initializing.\n",
      "2021-09-10 11:51:20.394297: I tensorflow/core/profiler/lib/profiler_session.cc:125] Profiler session started.\n",
      "2021-09-10 11:51:20.394411: E tensorflow/core/profiler/internal/gpu/cupti_tracer.cc:1681] function cupti_interface_->Subscribe( &subscriber_, (CUpti_CallbackFunc)ApiCallback, this)failed with error CUPTI could not be loaded or symbol could not be found.\n",
      "2021-09-10 11:51:20.394749: I tensorflow/core/profiler/lib/profiler_session.cc:143] Profiler session tear down.\n",
      "2021-09-10 11:51:20.394765: E tensorflow/core/profiler/internal/gpu/cupti_tracer.cc:1773] function cupti_interface_->Finalize()failed with error CUPTI could not be loaded or symbol could not be found.\n"
     ]
    },
    {
     "name": "stdout",
     "output_type": "stream",
     "text": [
      "WARNING:tensorflow:Callback method `on_train_batch_end` is slow compared to the batch time (batch time: 0.0043s vs `on_train_batch_end` time: 0.0096s). Check your callbacks.\n"
     ]
    },
    {
     "name": "stderr",
     "output_type": "stream",
     "text": [
      "2021-09-10 11:51:20.831081: I tensorflow/core/profiler/lib/profiler_session.cc:110] Profiler session initializing.\n",
      "2021-09-10 11:51:20.831107: I tensorflow/core/profiler/lib/profiler_session.cc:125] Profiler session started.\n",
      "2021-09-10 11:51:20.831135: E tensorflow/core/profiler/internal/gpu/cupti_tracer.cc:1681] function cupti_interface_->Subscribe( &subscriber_, (CUpti_CallbackFunc)ApiCallback, this)failed with error CUPTI could not be loaded or symbol could not be found.\n",
      "2021-09-10 11:51:20.863803: I tensorflow/core/profiler/lib/profiler_session.cc:67] Profiler session collecting data.\n",
      "2021-09-10 11:51:20.863929: E tensorflow/core/profiler/internal/gpu/cupti_tracer.cc:1773] function cupti_interface_->Finalize()failed with error CUPTI could not be loaded or symbol could not be found.\n",
      "2021-09-10 11:51:20.866544: I tensorflow/core/profiler/internal/gpu/cupti_collector.cc:526]  GpuTracer has collected 0 callback api events and 0 activity events. \n",
      "2021-09-10 11:51:20.868928: I tensorflow/core/profiler/lib/profiler_session.cc:143] Profiler session tear down.\n",
      "2021-09-10 11:51:20.874144: I tensorflow/core/profiler/rpc/client/save_profile.cc:136] Creating directory: /tmp/tmpz_5wn94q/tensorboard_logs/regularizers/combined/plugins/profile/2021_09_10_11_51_20\n",
      "\n",
      "2021-09-10 11:51:20.878083: I tensorflow/core/profiler/rpc/client/save_profile.cc:142] Dumped gzipped tool data for trace.json.gz to /tmp/tmpz_5wn94q/tensorboard_logs/regularizers/combined/plugins/profile/2021_09_10_11_51_20/Developer.trace.json.gz\n",
      "2021-09-10 11:51:20.882792: I tensorflow/core/profiler/rpc/client/save_profile.cc:136] Creating directory: /tmp/tmpz_5wn94q/tensorboard_logs/regularizers/combined/plugins/profile/2021_09_10_11_51_20\n",
      "\n",
      "2021-09-10 11:51:20.883914: I tensorflow/core/profiler/rpc/client/save_profile.cc:142] Dumped gzipped tool data for memory_profile.json.gz to /tmp/tmpz_5wn94q/tensorboard_logs/regularizers/combined/plugins/profile/2021_09_10_11_51_20/Developer.memory_profile.json.gz\n",
      "2021-09-10 11:51:20.884068: I tensorflow/core/profiler/rpc/client/capture_profile.cc:251] Creating directory: /tmp/tmpz_5wn94q/tensorboard_logs/regularizers/combined/plugins/profile/2021_09_10_11_51_20\n",
      "Dumped tool data for xplane.pb to /tmp/tmpz_5wn94q/tensorboard_logs/regularizers/combined/plugins/profile/2021_09_10_11_51_20/Developer.xplane.pb\n",
      "Dumped tool data for overview_page.pb to /tmp/tmpz_5wn94q/tensorboard_logs/regularizers/combined/plugins/profile/2021_09_10_11_51_20/Developer.overview_page.pb\n",
      "Dumped tool data for input_pipeline.pb to /tmp/tmpz_5wn94q/tensorboard_logs/regularizers/combined/plugins/profile/2021_09_10_11_51_20/Developer.input_pipeline.pb\n",
      "Dumped tool data for tensorflow_stats.pb to /tmp/tmpz_5wn94q/tensorboard_logs/regularizers/combined/plugins/profile/2021_09_10_11_51_20/Developer.tensorflow_stats.pb\n",
      "Dumped tool data for kernel_stats.pb to /tmp/tmpz_5wn94q/tensorboard_logs/regularizers/combined/plugins/profile/2021_09_10_11_51_20/Developer.kernel_stats.pb\n",
      "\n"
     ]
    },
    {
     "name": "stdout",
     "output_type": "stream",
     "text": [
      "\n",
      "Epoch: 0, accuracy:0.5104,  binary_crossentropy:0.7903,  loss:0.9484,  val_accuracy:0.5340,  val_binary_crossentropy:0.6858,  val_loss:0.8433,  \n",
      "....................................................................................................\n",
      "Epoch: 100, accuracy:0.6469,  binary_crossentropy:0.6046,  loss:0.6337,  val_accuracy:0.6590,  val_binary_crossentropy:0.5843,  val_loss:0.6132,  \n",
      "....................................................................................................\n",
      "Epoch: 200, accuracy:0.6616,  binary_crossentropy:0.5927,  loss:0.6179,  val_accuracy:0.6820,  val_binary_crossentropy:0.5703,  val_loss:0.5955,  \n",
      "....................................................................................................\n",
      "Epoch: 300, accuracy:0.6708,  binary_crossentropy:0.5856,  loss:0.6129,  val_accuracy:0.6740,  val_binary_crossentropy:0.5623,  val_loss:0.5896,  \n",
      "....................................................................................................\n",
      "Epoch: 400, accuracy:0.6750,  binary_crossentropy:0.5778,  loss:0.6069,  val_accuracy:0.6910,  val_binary_crossentropy:0.5582,  val_loss:0.5874,  \n",
      "....................................................................................................\n",
      "Epoch: 500, accuracy:0.6809,  binary_crossentropy:0.5680,  loss:0.6000,  val_accuracy:0.6950,  val_binary_crossentropy:0.5529,  val_loss:0.5849,  \n",
      "....................................................................................................\n",
      "Epoch: 600, accuracy:0.6880,  binary_crossentropy:0.5681,  loss:0.6020,  val_accuracy:0.7140,  val_binary_crossentropy:0.5419,  val_loss:0.5758,  \n",
      "....................................................................................................\n",
      "Epoch: 700, accuracy:0.6909,  binary_crossentropy:0.5621,  loss:0.5974,  val_accuracy:0.6790,  val_binary_crossentropy:0.5577,  val_loss:0.5930,  \n",
      "....................................................................................................\n",
      "Epoch: 800, accuracy:0.6939,  binary_crossentropy:0.5588,  loss:0.5956,  val_accuracy:0.7040,  val_binary_crossentropy:0.5432,  val_loss:0.5800,  \n",
      "......................................................................................"
     ]
    }
   ],
   "source": [
    "combined_model = tf.keras.Sequential([\n",
    "    layers.Dense(512, kernel_regularizer=regularizers.l2(0.0001),\n",
    "                 activation='elu', input_shape=(FEATURES,)),\n",
    "    layers.Dropout(0.5),\n",
    "    layers.Dense(512, kernel_regularizer=regularizers.l2(0.0001),\n",
    "                 activation='elu'),\n",
    "    layers.Dropout(0.5),\n",
    "    layers.Dense(512, kernel_regularizer=regularizers.l2(0.0001),\n",
    "                 activation='elu'),\n",
    "    layers.Dropout(0.5),\n",
    "    layers.Dense(512, kernel_regularizer=regularizers.l2(0.0001),\n",
    "                 activation='elu'),\n",
    "    layers.Dropout(0.5),\n",
    "    layers.Dense(1)\n",
    "])\n",
    "\n",
    "regularizer_histories['combined'] = compile_and_fit(combined_model, \"regularizers/combined\")"
   ]
  },
  {
   "cell_type": "code",
   "execution_count": 40,
   "id": "bbfc8789",
   "metadata": {},
   "outputs": [
    {
     "data": {
      "text/plain": [
       "(0.5, 0.7)"
      ]
     },
     "execution_count": 40,
     "metadata": {},
     "output_type": "execute_result"
    },
    {
     "data": {
      "image/png": "[encoded data removed]",
      "text/plain": [
       "<Figure size 432x288 with 1 Axes>"
      ]
     },
     "metadata": {
      "needs_background": "light"
     },
     "output_type": "display_data"
    }
   ],
   "source": [
    "plotter.plot(regularizer_histories)\n",
    "plt.ylim([0.5, 0.7])"
   ]
  },
  {
   "cell_type": "code",
   "execution_count": 41,
   "id": "49e08844",
   "metadata": {},
   "outputs": [
    {
     "data": {
      "text/html": [
       "\n",
       "      <iframe id=\"tensorboard-frame-79821c370368345d\" width=\"100%\" height=\"800\" frameborder=\"0\">\n",
       "      </iframe>\n",
       "      <script>\n",
       "        (function() {\n",
       "          const frame = document.getElementById(\"tensorboard-frame-79821c370368345d\");\n",
       "          const url = new URL(\"/\", window.location);\n",
       "          const port = 6007;\n",
       "          if (port) {\n",
       "            url.port = port;\n",
       "          }\n",
       "          frame.src = url;\n",
       "        })();\n",
       "      </script>\n",
       "    "
      ],
      "text/plain": [
       "<IPython.core.display.HTML object>"
      ]
     },
     "metadata": {},
     "output_type": "display_data"
    }
   ],
   "source": [
    "%tensorboard --logdir {logdir}/regularizers"
   ]
  },
  {
   "cell_type": "markdown",
   "id": "ffdf41f8",
   "metadata": {},
   "source": [
    "Conclusions\n",
    "To recap: here are the most common ways to prevent overfitting in neural networks:\n",
    "\n",
    "Get more training data.\n",
    "Reduce the capacity of the network.\n",
    "Add weight regularization.\n",
    "Add dropout.\n",
    "Two important approaches not covered in this guide are:\n",
    "\n",
    "data-augmentation  => later in advanced tutorial\n",
    "\n",
    "batch normalization => this will be implemented in futher exercise\n",
    "\n",
    "Remember that each method can help on its own, but often combining them can be even more effective.\n",
    "\n",
    "\n"
   ]
  },
  {
   "cell_type": "code",
   "execution_count": null,
   "id": "22a41313",
   "metadata": {},
   "outputs": [],
   "source": []
  }
 ],
 "metadata": {
  "kernelspec": {
   "display_name": "Python 3 (ipykernel)",
   "language": "python",
   "name": "python3"
  },
  "language_info": {
   "codemirror_mode": {
    "name": "ipython",
    "version": 3
   },
   "file_extension": ".py",
   "mimetype": "text/x-python",
   "name": "python",
   "nbconvert_exporter": "python",
   "pygments_lexer": "ipython3",
   "version": "3.8.10"
  }
 },
 "nbformat": 4,
 "nbformat_minor": 5
}

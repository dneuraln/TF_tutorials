{
 "cells": [
  {
   "cell_type": "code",
   "execution_count": 1,
   "id": "c47bb5db-89dd-48b6-bc06-11b25679d19f",
   "metadata": {},
   "outputs": [
    {
     "name": "stdout",
     "output_type": "stream",
     "text": [
      "TensorFlow version: 2.7.0\n",
      "Eager execution: True\n"
     ]
    }
   ],
   "source": [
    "import os\n",
    "import matplotlib.pyplot as plt\n",
    "import tensorflow as tf\n",
    "print(\"TensorFlow version: {}\".format(tf.__version__))\n",
    "print(\"Eager execution: {}\".format(tf.executing_eagerly()))"
   ]
  },
  {
   "cell_type": "code",
   "execution_count": 2,
   "id": "474c8021-a3dd-4b32-9fc3-0174ce1ce668",
   "metadata": {},
   "outputs": [
    {
     "name": "stdout",
     "output_type": "stream",
     "text": [
      "Local copy of the dataset file: /home/maker/.keras/datasets/iris_training.csv\n"
     ]
    }
   ],
   "source": [
    "train_dataset_url = \"https://storage.googleapis.com/download.tensorflow.org/data/iris_training.csv\"\n",
    "\n",
    "train_dataset_fp = tf.keras.utils.get_file(fname=os.path.basename(train_dataset_url),\n",
    "                                           origin=train_dataset_url)\n",
    "\n",
    "print(\"Local copy of the dataset file: {}\".format(train_dataset_fp))"
   ]
  },
  {
   "cell_type": "markdown",
   "id": "33d5d19f-2a92-4e34-b8cd-010884b7e771",
   "metadata": {},
   "source": [
    "head -n5 {train_dataset_fp}\n",
    "\n",
    "```\n",
    "120,4,setosa,versicolor,virginica\n",
    "6.4,2.8,5.6,2.2,2\n",
    "5.0,2.3,3.3,1.0,1\n",
    "4.9,2.5,4.5,1.7,2\n",
    "4.9,3.1,1.5,0.1,0\n",
    "\n",
    "From this view of the dataset, notice the following:\n",
    "\n",
    "The first line is a header containing information about the dataset:\n",
    "There are 120 total examples. Each example has four features and one of three possible label names.\n",
    "Subsequent rows are data records, one example per line, where:\n",
    "The first four fields are features: these are the characteristics of an example. Here, the fields hold float numbers representing flower measurements.\n",
    "The last column is the label: this is the value we want to predict. For this dataset, it's an integer value of 0, 1, or 2 that corresponds to a flower name.\n",
    "```"
   ]
  },
  {
   "cell_type": "code",
   "execution_count": 3,
   "id": "b368b7d3-2cc6-4ea0-a2e4-a89e8f69f6e6",
   "metadata": {},
   "outputs": [
    {
     "name": "stdout",
     "output_type": "stream",
     "text": [
      "Features: ['sepal_length', 'sepal_width', 'petal_length', 'petal_width']\n",
      "Label: species\n"
     ]
    }
   ],
   "source": [
    "# column order in CSV file\n",
    "column_names = ['sepal_length', 'sepal_width', 'petal_length', 'petal_width', 'species']\n",
    "\n",
    "feature_names = column_names[:-1]\n",
    "label_name = column_names[-1]\n",
    "\n",
    "print(\"Features: {}\".format(feature_names))\n",
    "print(\"Label: {}\".format(label_name))"
   ]
  },
  {
   "cell_type": "code",
   "execution_count": 4,
   "id": "412425c5-6073-4f0b-af6a-2cc7db0fe303",
   "metadata": {},
   "outputs": [],
   "source": [
    "class_names = ['Iris setosa', 'Iris versicolor', 'Iris virginica']"
   ]
  },
  {
   "cell_type": "code",
   "execution_count": 5,
   "id": "ed45df89-96d9-4e3e-9d96-c28d13009214",
   "metadata": {},
   "outputs": [],
   "source": [
    "# Create tf.data.Dataset"
   ]
  },
  {
   "cell_type": "code",
   "execution_count": 6,
   "id": "4efcb124-b39e-449a-a34e-9bab6a59cabe",
   "metadata": {},
   "outputs": [
    {
     "name": "stderr",
     "output_type": "stream",
     "text": [
      "2021-09-14 13:50:19.177776: I tensorflow/core/common_runtime/gpu/gpu_device.cc:1525] Created device /job:localhost/replica:0/task:0/device:GPU:0 with 47220 MB memory:  -> device: 0, name: Quadro RTX 8000, pci bus id: 0000:67:00.0, compute capability: 7.5\n",
      "2021-09-14 13:50:19.179278: I tensorflow/core/common_runtime/gpu/gpu_device.cc:1525] Created device /job:localhost/replica:0/task:0/device:GPU:1 with 46913 MB memory:  -> device: 1, name: Quadro RTX 8000, pci bus id: 0000:68:00.0, compute capability: 7.5\n"
     ]
    }
   ],
   "source": [
    "batch_size = 32\n",
    "\n",
    "train_dataset = tf.data.experimental.make_csv_dataset(\n",
    "    train_dataset_fp,\n",
    "    batch_size,\n",
    "    column_names = column_names,\n",
    "    label_name = label_name,\n",
    "    num_epochs=1)\n"
   ]
  },
  {
   "cell_type": "markdown",
   "id": "7aa267ca-617e-46ab-9172-6b6ec83b84c1",
   "metadata": {},
   "source": [
    "The make_csv_dataset function returns a tf.data.Dataset of (features, label) pairs, where features is a dictionary: {'feature_name': value}\n",
    "\n",
    "These Dataset objects are iterable. Let's look at a batch of features:"
   ]
  },
  {
   "cell_type": "code",
   "execution_count": 7,
   "id": "4803cee0-6816-478d-a1c0-943936856340",
   "metadata": {},
   "outputs": [],
   "source": [
    "features, labels = next(iter(train_dataset))"
   ]
  },
  {
   "cell_type": "code",
   "execution_count": 8,
   "id": "10fe4cfc-7600-4127-9a16-ad0c1a0523fc",
   "metadata": {},
   "outputs": [
    {
     "name": "stdout",
     "output_type": "stream",
     "text": [
      "OrderedDict([('sepal_length', <tf.Tensor: shape=(32,), dtype=float32, numpy=\n",
      "array([4.6, 6.9, 4.9, 5.1, 5.2, 7.2, 6.6, 5.4, 4.9, 6.8, 5.8, 6.3, 6.3,\n",
      "       7.7, 4.8, 7.7, 5.5, 5.7, 6. , 7.7, 6.8, 6.1, 5. , 7.2, 5.9, 5.7,\n",
      "       5.6, 5.5, 5. , 6.1, 6.8, 6.3], dtype=float32)>), ('sepal_width', <tf.Tensor: shape=(32,), dtype=float32, numpy=\n",
      "array([3.6, 3.1, 3.1, 3.7, 3.5, 3.2, 2.9, 3.9, 3. , 2.8, 2.7, 2.5, 2.7,\n",
      "       2.8, 3. , 3.8, 2.4, 2.9, 2.7, 2.6, 3.2, 2.8, 3.6, 3. , 3. , 2.8,\n",
      "       2.7, 3.5, 3.5, 2.6, 3. , 2.3], dtype=float32)>), ('petal_length', <tf.Tensor: shape=(32,), dtype=float32, numpy=\n",
      "array([1. , 4.9, 1.5, 1.5, 1.5, 6. , 4.6, 1.7, 1.4, 4.8, 5.1, 5. , 4.9,\n",
      "       6.7, 1.4, 6.7, 3.7, 4.2, 5.1, 6.9, 5.9, 4.7, 1.4, 5.8, 5.1, 4.5,\n",
      "       4.2, 1.3, 1.3, 5.6, 5.5, 4.4], dtype=float32)>), ('petal_width', <tf.Tensor: shape=(32,), dtype=float32, numpy=\n",
      "array([0.2, 1.5, 0.1, 0.4, 0.2, 1.8, 1.3, 0.4, 0.2, 1.4, 1.9, 1.9, 1.8,\n",
      "       2. , 0.3, 2.2, 1. , 1.3, 1.6, 2.3, 2.3, 1.2, 0.2, 1.6, 1.8, 1.3,\n",
      "       1.3, 0.2, 0.3, 1.4, 2.1, 1.3], dtype=float32)>)])\n"
     ]
    }
   ],
   "source": [
    "print(features)"
   ]
  },
  {
   "cell_type": "code",
   "execution_count": 9,
   "id": "72973492-62bd-498c-b2b0-486f25e0aab8",
   "metadata": {},
   "outputs": [
    {
     "data": {
      "image/png": "[encoded data removed]",
      "text/plain": [
       "<Figure size 432x288 with 1 Axes>"
      ]
     },
     "metadata": {
      "needs_background": "light"
     },
     "output_type": "display_data"
    }
   ],
   "source": [
    "plt.scatter(features['petal_length'],\n",
    "            features['sepal_length'],\n",
    "            c=labels,\n",
    "            cmap='viridis')\n",
    "\n",
    "plt.xlabel(\"Petal length\")\n",
    "plt.ylabel(\"Sepal length\")\n",
    "plt.show()"
   ]
  },
  {
   "cell_type": "markdown",
   "id": "cc70f914-791f-4923-9a01-dfe52bd9dba9",
   "metadata": {},
   "source": [
    "To simplify the model building step, create a function to repackage the features dictionary into a single array with shape: (batch_size, num_features).\n",
    "\n",
    "This function uses the tf.stack method which takes values from a list of tensors and creates a combined tensor at the specified dimension:"
   ]
  },
  {
   "cell_type": "code",
   "execution_count": 10,
   "id": "072cfdee-b707-42d3-984b-179cce002425",
   "metadata": {},
   "outputs": [],
   "source": [
    "def pack_features_vector(features, labels):\n",
    "  features = tf.stack(list(features.values()), axis=1)\n",
    "  return features, labels"
   ]
  },
  {
   "cell_type": "markdown",
   "id": "d2039921-aed7-41e6-8a1e-68dca2e08f94",
   "metadata": {},
   "source": [
    "Then use the tf.data.Dataset#map method to pack the features of each (features,label) pair into the training dataset:"
   ]
  },
  {
   "cell_type": "code",
   "execution_count": 11,
   "id": "b2325049-3048-4d0c-928a-76a94c545e2f",
   "metadata": {},
   "outputs": [],
   "source": [
    "train_dataset = train_dataset.map(pack_features_vector)"
   ]
  },
  {
   "cell_type": "code",
   "execution_count": 12,
   "id": "bc8d8dc9-0c0f-4862-9b26-43a4af49156f",
   "metadata": {},
   "outputs": [],
   "source": [
    "features, labels = next(iter(train_dataset))\n"
   ]
  },
  {
   "cell_type": "code",
   "execution_count": 13,
   "id": "0ff8050d-1de4-4d42-9397-70b5ae514b93",
   "metadata": {},
   "outputs": [
    {
     "name": "stdout",
     "output_type": "stream",
     "text": [
      "tf.Tensor(\n",
      "[[5.7 3.  4.2 1.2]\n",
      " [4.9 3.1 1.5 0.1]\n",
      " [6.2 2.2 4.5 1.5]\n",
      " [4.8 3.1 1.6 0.2]\n",
      " [4.6 3.6 1.  0.2]\n",
      " [7.2 3.2 6.  1.8]\n",
      " [6.  2.2 5.  1.5]\n",
      " [6.4 2.8 5.6 2.1]\n",
      " [5.2 3.4 1.4 0.2]\n",
      " [4.8 3.  1.4 0.3]\n",
      " [5.8 2.6 4.  1.2]\n",
      " [6.7 3.1 4.4 1.4]\n",
      " [6.3 2.7 4.9 1.8]\n",
      " [6.7 3.  5.  1.7]\n",
      " [6.1 2.8 4.  1.3]\n",
      " [5.9 3.2 4.8 1.8]\n",
      " [4.4 2.9 1.4 0.2]\n",
      " [5.7 2.8 4.5 1.3]\n",
      " [5.  3.4 1.5 0.2]\n",
      " [5.7 2.8 4.1 1.3]\n",
      " [6.8 2.8 4.8 1.4]\n",
      " [6.5 3.  5.5 1.8]\n",
      " [6.9 3.1 4.9 1.5]\n",
      " [5.  2.  3.5 1. ]\n",
      " [4.7 3.2 1.3 0.2]\n",
      " [5.1 3.8 1.5 0.3]\n",
      " [6.  2.9 4.5 1.5]\n",
      " [4.6 3.4 1.4 0.3]\n",
      " [6.7 3.  5.2 2.3]\n",
      " [5.7 2.9 4.2 1.3]\n",
      " [6.1 2.6 5.6 1.4]\n",
      " [5.  3.6 1.4 0.2]], shape=(32, 4), dtype=float32)\n"
     ]
    }
   ],
   "source": [
    "print (features)"
   ]
  },
  {
   "cell_type": "code",
   "execution_count": 14,
   "id": "53e81871-9cb5-45eb-9ba8-99e3a15a8e73",
   "metadata": {},
   "outputs": [
    {
     "name": "stdout",
     "output_type": "stream",
     "text": [
      "tf.Tensor([1 0 1 0 0 2 2 2 0 0 1 1 2 1 1 1 0 1 0 1 1 2 1 1 0 0 1 0 2 1 2 0], shape=(32,), dtype=int32)\n"
     ]
    }
   ],
   "source": [
    "print (labels)"
   ]
  },
  {
   "cell_type": "code",
   "execution_count": 15,
   "id": "a255996a-f7fc-4925-9641-7412d00465e0",
   "metadata": {},
   "outputs": [],
   "source": [
    "model = tf.keras.Sequential([\n",
    "  tf.keras.layers.Dense(10, activation=tf.nn.relu, input_shape=(4,)),  # input shape required\n",
    "  tf.keras.layers.Dense(10, activation=tf.nn.relu),\n",
    "  tf.keras.layers.Dense(3)\n",
    "])"
   ]
  },
  {
   "cell_type": "code",
   "execution_count": 16,
   "id": "43135a7b-cdcc-4664-abad-4a782b99eb28",
   "metadata": {},
   "outputs": [
    {
     "data": {
      "text/plain": [
       "<tf.Tensor: shape=(5, 3), dtype=float32, numpy=\n",
       "array([[-0.04451322,  1.0850911 , -0.5574042 ],\n",
       "       [ 0.12403236,  0.7431654 , -0.38246706],\n",
       "       [ 0.12671532,  1.3472618 , -0.60754204],\n",
       "       [ 0.12109759,  0.7357392 , -0.37964082],\n",
       "       [ 0.23068957,  0.650328  , -0.32333103]], dtype=float32)>"
      ]
     },
     "execution_count": 16,
     "metadata": {},
     "output_type": "execute_result"
    }
   ],
   "source": [
    "predictions = model(features)\n",
    "predictions[:5]"
   ]
  },
  {
   "cell_type": "code",
   "execution_count": 17,
   "id": "41755457-f2b6-487a-9ab2-2f4edcb39373",
   "metadata": {},
   "outputs": [
    {
     "data": {
      "text/plain": [
       "<tf.Tensor: shape=(5, 3), dtype=float32, numpy=\n",
       "array([[0.2130745 , 0.65934455, 0.12758093],\n",
       "       [0.28902414, 0.5368095 , 0.17416634],\n",
       "       [0.20538515, 0.6960584 , 0.09855646],\n",
       "       [0.2894292 , 0.53515273, 0.17541808],\n",
       "       [0.32299262, 0.49140462, 0.18560278]], dtype=float32)>"
      ]
     },
     "execution_count": 17,
     "metadata": {},
     "output_type": "execute_result"
    }
   ],
   "source": [
    "tf.nn.softmax(predictions[:5])"
   ]
  },
  {
   "cell_type": "code",
   "execution_count": 18,
   "id": "6043ad24-28c6-42c8-a40d-28c6b6eb3f7f",
   "metadata": {},
   "outputs": [
    {
     "name": "stdout",
     "output_type": "stream",
     "text": [
      "Prediction: [1 1 1 1 1 1 1 1 1 1 1 1 1 1 1 1 1 1 1 1 1 1 1 1 1 1 1 1 1 1 1 1]\n",
      "    Labels: [1 0 1 0 0 2 2 2 0 0 1 1 2 1 1 1 0 1 0 1 1 2 1 1 0 0 1 0 2 1 2 0]\n"
     ]
    }
   ],
   "source": [
    "print(\"Prediction: {}\".format(tf.argmax(predictions, axis=1)))\n",
    "print(\"    Labels: {}\".format(labels))"
   ]
  },
  {
   "cell_type": "markdown",
   "id": "5e1e11f9-9c64-4525-8688-433933bdd2a5",
   "metadata": {},
   "source": [
    "# Train the model"
   ]
  },
  {
   "cell_type": "markdown",
   "id": "84b78449-f7fa-46ac-ac4b-0e24dfc190b6",
   "metadata": {},
   "source": [
    "## Define the loss and gradient function"
   ]
  },
  {
   "cell_type": "code",
   "execution_count": 20,
   "id": "62286470-74cc-4c16-a975-03c3183e27c9",
   "metadata": {},
   "outputs": [],
   "source": [
    "loss_object = tf.keras.losses.SparseCategoricalCrossentropy(from_logits=True)"
   ]
  },
  {
   "cell_type": "code",
   "execution_count": 21,
   "id": "3dad35e8-610c-45a8-8c62-7f770dd1a20d",
   "metadata": {},
   "outputs": [
    {
     "name": "stdout",
     "output_type": "stream",
     "text": [
      "Loss test: 1.0940660238265991\n"
     ]
    }
   ],
   "source": [
    "def loss(model, x, y, training):\n",
    "  # training=training is needed only if there are layers with different\n",
    "  # behavior during training versus inference (e.g. Dropout).\n",
    "  y_ = model(x, training=training)\n",
    "\n",
    "  return loss_object(y_true=y, y_pred=y_)\n",
    "\n",
    "\n",
    "l = loss(model, features, labels, training=False)\n",
    "print(\"Loss test: {}\".format(l))"
   ]
  },
  {
   "cell_type": "markdown",
   "id": "6c3e3416-6f59-454d-984f-a4b1dbfde041",
   "metadata": {},
   "source": [
    "Use the tf.GradientTape context to calculate the gradients used to optimize your model:"
   ]
  },
  {
   "cell_type": "code",
   "execution_count": 22,
   "id": "bf86f48d-fe8c-414d-bab6-9bf9cc86aa0e",
   "metadata": {},
   "outputs": [],
   "source": [
    "def grad(model, inputs, targets):\n",
    "  with tf.GradientTape() as tape:\n",
    "    loss_value = loss(model, inputs, targets, training=True)\n",
    "  return loss_value, tape.gradient(loss_value, model.trainable_variables)"
   ]
  },
  {
   "cell_type": "markdown",
   "id": "b958ce88-b2b1-4398-91e8-06e25ec95e21",
   "metadata": {},
   "source": [
    "## Create an optimizer"
   ]
  },
  {
   "cell_type": "code",
   "execution_count": 23,
   "id": "19d1da57-aa04-4d01-a1d2-b4337705c100",
   "metadata": {},
   "outputs": [],
   "source": [
    "optimizer = tf.keras.optimizers.SGD(learning_rate=0.01)"
   ]
  },
  {
   "cell_type": "code",
   "execution_count": 24,
   "id": "56087894-80d3-4e8b-9153-262c34e8aa8a",
   "metadata": {},
   "outputs": [
    {
     "name": "stdout",
     "output_type": "stream",
     "text": [
      "Step: 0, Initial Loss: 1.0940660238265991\n",
      "Step: 1,         Loss: 1.05594003200531\n"
     ]
    }
   ],
   "source": [
    "# single optimization step\n",
    "\n",
    "loss_value, grads = grad(model, features, labels)\n",
    "\n",
    "print(\"Step: {}, Initial Loss: {}\".format(optimizer.iterations.numpy(),\n",
    "                                          loss_value.numpy()))\n",
    "\n",
    "optimizer.apply_gradients(zip(grads, model.trainable_variables))\n",
    "\n",
    "print(\"Step: {},         Loss: {}\".format(optimizer.iterations.numpy(),\n",
    "                                          loss(model, features, labels, training=True).numpy()))"
   ]
  },
  {
   "cell_type": "markdown",
   "id": "12366b64-94e0-4ce6-84a2-31da7a1f5373",
   "metadata": {},
   "source": [
    "## Training loop"
   ]
  },
  {
   "cell_type": "code",
   "execution_count": 25,
   "id": "fd2f0f10-9f16-4d32-b5bc-5836e4ccc27b",
   "metadata": {},
   "outputs": [
    {
     "name": "stdout",
     "output_type": "stream",
     "text": [
      "Epoch 000: Loss: 1.203, Accuracy: 57.500%\n",
      "Epoch 050: Loss: 0.772, Accuracy: 76.667%\n",
      "Epoch 100: Loss: 0.394, Accuracy: 97.500%\n",
      "Epoch 150: Loss: 0.246, Accuracy: 95.833%\n",
      "Epoch 200: Loss: 0.164, Accuracy: 98.333%\n"
     ]
    }
   ],
   "source": [
    "## Note: Rerunning this cell uses the same model variables\n",
    "\n",
    "# Keep results for plotting\n",
    "train_loss_results = []\n",
    "train_accuracy_results = []\n",
    "\n",
    "num_epochs = 201\n",
    "\n",
    "for epoch in range(num_epochs):\n",
    "  epoch_loss_avg = tf.keras.metrics.Mean()\n",
    "  epoch_accuracy = tf.keras.metrics.SparseCategoricalAccuracy()\n",
    "\n",
    "  # Training loop - using batches of 32\n",
    "  for x, y in train_dataset:\n",
    "    # Optimize the model\n",
    "    loss_value, grads = grad(model, x, y)\n",
    "    optimizer.apply_gradients(zip(grads, model.trainable_variables))\n",
    "\n",
    "    # Track progress\n",
    "    epoch_loss_avg.update_state(loss_value)  # Add current batch loss\n",
    "    # Compare predicted label to actual label\n",
    "    # training=True is needed only if there are layers with different\n",
    "    # behavior during training versus inference (e.g. Dropout).\n",
    "    epoch_accuracy.update_state(y, model(x, training=True))\n",
    "\n",
    "  # End epoch\n",
    "  train_loss_results.append(epoch_loss_avg.result())\n",
    "  train_accuracy_results.append(epoch_accuracy.result())\n",
    "\n",
    "  if epoch % 50 == 0:\n",
    "    print(\"Epoch {:03d}: Loss: {:.3f}, Accuracy: {:.3%}\".format(epoch,\n",
    "                                                                epoch_loss_avg.result(),\n",
    "                                                                epoch_accuracy.result()))"
   ]
  },
  {
   "cell_type": "code",
   "execution_count": 26,
   "id": "d2195bf5-41f6-4e08-9c03-a74bb7746856",
   "metadata": {},
   "outputs": [],
   "source": [
    "## Visualize the loss function over time\n"
   ]
  },
  {
   "cell_type": "code",
   "execution_count": 27,
   "id": "7b72bf84-810a-43e7-abc4-ce53637624ab",
   "metadata": {},
   "outputs": [
    {
     "data": {
      "image/png": "[encoded data removed]",
      "text/plain": [
       "<Figure size 864x576 with 2 Axes>"
      ]
     },
     "metadata": {
      "needs_background": "light"
     },
     "output_type": "display_data"
    }
   ],
   "source": [
    "fig, axes = plt.subplots(2, sharex=True, figsize=(12, 8))\n",
    "fig.suptitle('Training Metrics')\n",
    "\n",
    "axes[0].set_ylabel(\"Loss\", fontsize=14)\n",
    "axes[0].plot(train_loss_results)\n",
    "\n",
    "axes[1].set_ylabel(\"Accuracy\", fontsize=14)\n",
    "axes[1].set_xlabel(\"Epoch\", fontsize=14)\n",
    "axes[1].plot(train_accuracy_results)\n",
    "plt.show()"
   ]
  },
  {
   "cell_type": "markdown",
   "id": "71694fc4-b634-4961-9e1d-cf13c885c566",
   "metadata": {},
   "source": [
    "## Setup the test dataset"
   ]
  },
  {
   "cell_type": "code",
   "execution_count": 28,
   "id": "3729f243-5930-4b45-84a6-f5e7e36da233",
   "metadata": {},
   "outputs": [
    {
     "name": "stdout",
     "output_type": "stream",
     "text": [
      "Downloading data from https://storage.googleapis.com/download.tensorflow.org/data/iris_test.csv\n",
      "16384/573 [=========================================================================================================================================================================================================================================================================================================================================================================================================================================================================================================================================================================================================================================================================================================================================================================================================================================================================================] - 0s 0us/step\n"
     ]
    }
   ],
   "source": [
    "test_url = \"https://storage.googleapis.com/download.tensorflow.org/data/iris_test.csv\"\n",
    "\n",
    "test_fp = tf.keras.utils.get_file(fname=os.path.basename(test_url),\n",
    "                                  origin=test_url)"
   ]
  },
  {
   "cell_type": "code",
   "execution_count": 29,
   "id": "30ad0207-4217-4b89-8fb5-bd651e480a16",
   "metadata": {},
   "outputs": [],
   "source": [
    "test_dataset = tf.data.experimental.make_csv_dataset(\n",
    "    test_fp,\n",
    "    batch_size,\n",
    "    column_names=column_names,\n",
    "    label_name='species',\n",
    "    num_epochs=1,\n",
    "    shuffle=False)\n",
    "\n",
    "test_dataset = test_dataset.map(pack_features_vector)"
   ]
  },
  {
   "cell_type": "markdown",
   "id": "7e2b6308-42d6-4764-a339-f891a85f60b5",
   "metadata": {},
   "source": [
    "# Evaluate the model on the test dataset"
   ]
  },
  {
   "cell_type": "code",
   "execution_count": 30,
   "id": "ae51fe44-ef30-4485-a6cf-5f67b2c07258",
   "metadata": {},
   "outputs": [
    {
     "name": "stdout",
     "output_type": "stream",
     "text": [
      "Test set accuracy: 96.667%\n"
     ]
    }
   ],
   "source": [
    "test_accuracy = tf.keras.metrics.Accuracy()\n",
    "\n",
    "for (x, y) in test_dataset:\n",
    "  # training=False is needed only if there are layers with different\n",
    "  # behavior during training versus inference (e.g. Dropout).\n",
    "  logits = model(x, training=False)\n",
    "  prediction = tf.argmax(logits, axis=1, output_type=tf.int32)\n",
    "  test_accuracy(prediction, y)\n",
    "\n",
    "print(\"Test set accuracy: {:.3%}\".format(test_accuracy.result()))"
   ]
  },
  {
   "cell_type": "markdown",
   "id": "db9c17f0-53ca-49b5-9160-91bb81a0310d",
   "metadata": {},
   "source": [
    "We can see on the last batch, for example, the model is usually correct:"
   ]
  },
  {
   "cell_type": "code",
   "execution_count": 32,
   "id": "b3b9fa70-87ae-4f0c-8aad-c80735009c3f",
   "metadata": {},
   "outputs": [
    {
     "data": {
      "text/plain": [
       "<tf.Tensor: shape=(30, 2), dtype=int32, numpy=\n",
       "array([[1, 1],\n",
       "       [2, 2],\n",
       "       [0, 0],\n",
       "       [1, 1],\n",
       "       [1, 1],\n",
       "       [1, 1],\n",
       "       [0, 0],\n",
       "       [2, 2],\n",
       "       [1, 1],\n",
       "       [2, 2],\n",
       "       [2, 2],\n",
       "       [0, 0],\n",
       "       [2, 2],\n",
       "       [1, 1],\n",
       "       [1, 1],\n",
       "       [0, 0],\n",
       "       [1, 1],\n",
       "       [0, 0],\n",
       "       [0, 0],\n",
       "       [2, 2],\n",
       "       [0, 0],\n",
       "       [1, 1],\n",
       "       [2, 2],\n",
       "       [1, 2],\n",
       "       [1, 1],\n",
       "       [1, 1],\n",
       "       [0, 0],\n",
       "       [1, 1],\n",
       "       [2, 2],\n",
       "       [1, 1]], dtype=int32)>"
      ]
     },
     "execution_count": 32,
     "metadata": {},
     "output_type": "execute_result"
    }
   ],
   "source": [
    "tf.stack([y,prediction],axis=1)"
   ]
  },
  {
   "cell_type": "code",
   "execution_count": 33,
   "id": "11adfc0a-ccfe-4526-b594-77a70fa13b7f",
   "metadata": {},
   "outputs": [],
   "source": [
    "## Use the trained model to make predictions"
   ]
  },
  {
   "cell_type": "code",
   "execution_count": 34,
   "id": "88ed405b-6b39-4c9d-bb86-265a50604ca6",
   "metadata": {},
   "outputs": [
    {
     "name": "stdout",
     "output_type": "stream",
     "text": [
      "Example 0 prediction: Iris setosa (95.5%)\n",
      "Example 1 prediction: Iris versicolor (85.0%)\n",
      "Example 2 prediction: Iris virginica (69.5%)\n"
     ]
    }
   ],
   "source": [
    "predict_dataset = tf.convert_to_tensor([\n",
    "    [5.1, 3.3, 1.7, 0.5,],\n",
    "    [5.9, 3.0, 4.2, 1.5,],\n",
    "    [6.9, 3.1, 5.4, 2.1]\n",
    "])\n",
    "\n",
    "# training=False is needed only if there are layers with different\n",
    "# behavior during training versus inference (e.g. Dropout).\n",
    "predictions = model(predict_dataset, training=False)\n",
    "\n",
    "for i, logits in enumerate(predictions):\n",
    "  class_idx = tf.argmax(logits).numpy()\n",
    "  p = tf.nn.softmax(logits)[class_idx]\n",
    "  name = class_names[class_idx]\n",
    "  print(\"Example {} prediction: {} ({:4.1f}%)\".format(i, name, 100*p))"
   ]
  },
  {
   "cell_type": "code",
   "execution_count": null,
   "id": "320b16e0-81f2-49cb-9938-7b75dfdc8e50",
   "metadata": {},
   "outputs": [],
   "source": []
  }
 ],
 "metadata": {
  "kernelspec": {
   "display_name": "Python 3 (ipykernel)",
   "language": "python",
   "name": "python3"
  },
  "language_info": {
   "codemirror_mode": {
    "name": "ipython",
    "version": 3
   },
   "file_extension": ".py",
   "mimetype": "text/x-python",
   "name": "python",
   "nbconvert_exporter": "python",
   "pygments_lexer": "ipython3",
   "version": "3.8.10"
  }
 },
 "nbformat": 4,
 "nbformat_minor": 5
}
